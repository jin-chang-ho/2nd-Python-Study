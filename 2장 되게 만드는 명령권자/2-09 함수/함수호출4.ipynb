{
 "cells": [
  {
   "cell_type": "code",
   "execution_count": 1,
   "metadata": {},
   "outputs": [
    {
     "name": "stdout",
     "output_type": "stream",
     "text": [
      "이름을 입력하시오(3글자): 진창호\n",
      "호창진\n"
     ]
    }
   ],
   "source": [
    "def reverse():\n",
    "    name = input(\"이름을 입력하시오(3글자): \")\n",
    "    rev = \"\"\n",
    "    for i in range(2, -1, -1):\n",
    "        rev += name[i]\n",
    "    print(rev)\n",
    "\n",
    "reverse()"
   ]
  },
  {
   "cell_type": "code",
   "execution_count": null,
   "metadata": {},
   "outputs": [],
   "source": []
  }
 ],
 "metadata": {
  "kernelspec": {
   "display_name": "Python 3",
   "language": "python",
   "name": "python3"
  },
  "language_info": {
   "codemirror_mode": {
    "name": "ipython",
    "version": 3
   },
   "file_extension": ".py",
   "mimetype": "text/x-python",
   "name": "python",
   "nbconvert_exporter": "python",
   "pygments_lexer": "ipython3",
   "version": "3.8.5"
  }
 },
 "nbformat": 4,
 "nbformat_minor": 4
}
