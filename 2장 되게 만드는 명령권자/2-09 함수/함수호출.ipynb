{
 "cells": [
  {
   "cell_type": "code",
   "execution_count": 1,
   "metadata": {},
   "outputs": [
    {
     "name": "stdout",
     "output_type": "stream",
     "text": [
      "밑변: 6\n",
      "높이: 3\n",
      "넓이는 9.0입니다\n"
     ]
    }
   ],
   "source": [
    "def triangle(b, h):\n",
    "    return 0.5*b*h\n",
    "\n",
    "x = int(input(\"밑변: \"))\n",
    "y = int(input(\"높이: \"))\n",
    "s = triangle(x, y)\n",
    "print(\"넓이는\", str(s)+\"입니다\")"
   ]
  },
  {
   "cell_type": "code",
   "execution_count": null,
   "metadata": {},
   "outputs": [],
   "source": []
  }
 ],
 "metadata": {
  "kernelspec": {
   "display_name": "Python 3",
   "language": "python",
   "name": "python3"
  },
  "language_info": {
   "codemirror_mode": {
    "name": "ipython",
    "version": 3
   },
   "file_extension": ".py",
   "mimetype": "text/x-python",
   "name": "python",
   "nbconvert_exporter": "python",
   "pygments_lexer": "ipython3",
   "version": "3.8.5"
  }
 },
 "nbformat": 4,
 "nbformat_minor": 4
}
