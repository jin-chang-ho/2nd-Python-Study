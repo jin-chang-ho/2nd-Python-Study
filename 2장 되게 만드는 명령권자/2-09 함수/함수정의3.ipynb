{
 "cells": [
  {
   "cell_type": "code",
   "execution_count": 1,
   "metadata": {},
   "outputs": [
    {
     "name": "stdout",
     "output_type": "stream",
     "text": [
      "현재시각(0~24): 15\n",
      "그대의 근로는 태양보다도 밝다.\n"
     ]
    }
   ],
   "source": [
    "def day():\n",
    "    return \"그대의 근로는 태양보다도 밝다.\"\n",
    "\n",
    "def night():\n",
    "    return \"아름다운 서울의 야경, 당신은 하나의 별이다.\"\n",
    "\n",
    "time = int(input(\"현재시각(0~24): \"))\n",
    "if 8 <= time <= 17:\n",
    "    phrase = day()\n",
    "else:\n",
    "    phrase = night()\n",
    "print(phrase)"
   ]
  },
  {
   "cell_type": "code",
   "execution_count": null,
   "metadata": {},
   "outputs": [],
   "source": []
  }
 ],
 "metadata": {
  "kernelspec": {
   "display_name": "Python 3",
   "language": "python",
   "name": "python3"
  },
  "language_info": {
   "codemirror_mode": {
    "name": "ipython",
    "version": 3
   },
   "file_extension": ".py",
   "mimetype": "text/x-python",
   "name": "python",
   "nbconvert_exporter": "python",
   "pygments_lexer": "ipython3",
   "version": "3.8.5"
  }
 },
 "nbformat": 4,
 "nbformat_minor": 4
}
