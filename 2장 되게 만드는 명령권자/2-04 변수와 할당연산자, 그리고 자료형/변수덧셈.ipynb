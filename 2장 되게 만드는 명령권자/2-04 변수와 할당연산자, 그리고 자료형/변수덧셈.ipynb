{
 "cells": [
  {
   "cell_type": "code",
   "execution_count": 1,
   "metadata": {},
   "outputs": [
    {
     "name": "stdout",
     "output_type": "stream",
     "text": [
      "10\n",
      "55\n",
      "5+5\n"
     ]
    }
   ],
   "source": [
    "x = 5+5\n",
    "print(x)\n",
    "x = \"5\"+\"5\"\n",
    "print(x)\n",
    "x = \"5+5\"\n",
    "print(x)"
   ]
  },
  {
   "cell_type": "code",
   "execution_count": 2,
   "metadata": {},
   "outputs": [
    {
     "name": "stdout",
     "output_type": "stream",
     "text": [
      "안녕하세요. 제 이름은 파이썬입니다. C랑은 친구에요.\n"
     ]
    }
   ],
   "source": [
    "greeting = \"안녕하세요.\"\n",
    "introduction = \"제 이름은\"\n",
    "name = \"파이썬\"\n",
    "be = \"입니다.\"\n",
    "friend = \"C랑은 친구에요.\"\n",
    "print(greeting + \" \" + introduction + \" \" + name + be + \" \" + friend)"
   ]
  },
  {
   "cell_type": "code",
   "execution_count": null,
   "metadata": {},
   "outputs": [],
   "source": []
  }
 ],
 "metadata": {
  "kernelspec": {
   "display_name": "Python 3",
   "language": "python",
   "name": "python3"
  },
  "language_info": {
   "codemirror_mode": {
    "name": "ipython",
    "version": 3
   },
   "file_extension": ".py",
   "mimetype": "text/x-python",
   "name": "python",
   "nbconvert_exporter": "python",
   "pygments_lexer": "ipython3",
   "version": "3.8.5"
  }
 },
 "nbformat": 4,
 "nbformat_minor": 4
}
