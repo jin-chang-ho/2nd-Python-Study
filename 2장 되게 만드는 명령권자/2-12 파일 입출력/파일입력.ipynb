{
 "cells": [
  {
   "cell_type": "code",
   "execution_count": 1,
   "metadata": {},
   "outputs": [
    {
     "name": "stdout",
     "output_type": "stream",
     "text": [
      "참가자 평균점수 : 75.4\n"
     ]
    }
   ],
   "source": [
    "file = open(\"노래경연결과.txt\", \"r\")\n",
    "text = file.readlines()\n",
    "sum = 0\n",
    "for line in text:\n",
    "    each = line.split()\n",
    "    score = int(each[-1].rstrip('\\n'))\n",
    "    sum += score\n",
    "print(\"참가자 평균점수 :\", sum / len(text))\n",
    "    "
   ]
  },
  {
   "cell_type": "code",
   "execution_count": 2,
   "metadata": {},
   "outputs": [],
   "source": [
    "file = open(\"노래경연결과.txt\", \"r\")\n",
    "new_line = \"\"\n",
    "new_list = \"\"\n",
    "while True:\n",
    "    line = file.readline()\n",
    "    if line == \"\":\n",
    "        break\n",
    "    \n",
    "    each = line.split()\n",
    "    each.pop(-1)\n",
    "    new_line = ' '.join(each)\n",
    "    new_line = new_line + \"\\n\"\n",
    "    new_list += new_line\n",
    "file = open(\"경연참여자.txt\", \"w\")\n",
    "file.write(new_list)\n",
    "file.close()"
   ]
  },
  {
   "cell_type": "code",
   "execution_count": null,
   "metadata": {},
   "outputs": [],
   "source": []
  }
 ],
 "metadata": {
  "kernelspec": {
   "display_name": "Python 3",
   "language": "python",
   "name": "python3"
  },
  "language_info": {
   "codemirror_mode": {
    "name": "ipython",
    "version": 3
   },
   "file_extension": ".py",
   "mimetype": "text/x-python",
   "name": "python",
   "nbconvert_exporter": "python",
   "pygments_lexer": "ipython3",
   "version": "3.8.5"
  }
 },
 "nbformat": 4,
 "nbformat_minor": 4
}
