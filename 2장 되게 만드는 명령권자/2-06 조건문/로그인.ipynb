{
 "cells": [
  {
   "cell_type": "code",
   "execution_count": 1,
   "metadata": {},
   "outputs": [
    {
     "name": "stdout",
     "output_type": "stream",
     "text": [
      "ID를 입력하세요: admin\n",
      "PW를 입력하세요: 1234\n",
      "환영합니다. 관리자님!\n",
      "어서 오십시오.\n"
     ]
    }
   ],
   "source": [
    "ID = input(\"ID를 입력하세요: \")\n",
    "PW = input(\"PW를 입력하세요: \")\n",
    "if ID == \"admin\" and PW == \"1234\":\n",
    "    print(\"환영합니다. 관리자님!\")\n",
    "print(\"어서 오십시오.\")\n",
    "    "
   ]
  },
  {
   "cell_type": "code",
   "execution_count": null,
   "metadata": {},
   "outputs": [],
   "source": [
    "mm"
   ]
  }
 ],
 "metadata": {
  "kernelspec": {
   "display_name": "Python 3",
   "language": "python",
   "name": "python3"
  },
  "language_info": {
   "codemirror_mode": {
    "name": "ipython",
    "version": 3
   },
   "file_extension": ".py",
   "mimetype": "text/x-python",
   "name": "python",
   "nbconvert_exporter": "python",
   "pygments_lexer": "ipython3",
   "version": "3.8.5"
  }
 },
 "nbformat": 4,
 "nbformat_minor": 4
}
