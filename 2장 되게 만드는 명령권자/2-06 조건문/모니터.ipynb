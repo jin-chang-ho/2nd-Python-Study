{
 "cells": [
  {
   "cell_type": "code",
   "execution_count": 1,
   "metadata": {},
   "outputs": [
    {
     "name": "stdout",
     "output_type": "stream",
     "text": [
      "모니터 일련번호: 4531843\n",
      "비정상\n"
     ]
    }
   ],
   "source": [
    "serial_numbers = [1111555, 2223322, 2521249, 8504037]\n",
    "ask_number = int(input(\"모니터 일련번호: \"))\n",
    "if ask_number in serial_numbers:\n",
    "    print(\"정상\")\n",
    "if ask_number not in serial_numbers:\n",
    "    print(\"비정상\")"
   ]
  },
  {
   "cell_type": "markdown",
   "metadata": {},
   "source": []
  }
 ],
 "metadata": {
  "kernelspec": {
   "display_name": "Python 3",
   "language": "python",
   "name": "python3"
  },
  "language_info": {
   "codemirror_mode": {
    "name": "ipython",
    "version": 3
   },
   "file_extension": ".py",
   "mimetype": "text/x-python",
   "name": "python",
   "nbconvert_exporter": "python",
   "pygments_lexer": "ipython3",
   "version": "3.8.5"
  }
 },
 "nbformat": 4,
 "nbformat_minor": 4
}
