{
 "cells": [
  {
   "cell_type": "code",
   "execution_count": null,
   "metadata": {},
   "outputs": [
    {
     "name": "stdout",
     "output_type": "stream",
     "text": [
      "5\n",
      "21\n",
      "13\n",
      "3\n",
      "26\n",
      "8\n",
      "41\n"
     ]
    }
   ],
   "source": [
    "from time import sleep\n",
    "from winsound import Beep\n",
    "from random import shuffle\n",
    "number = list(range(1,46))\n",
    "shuffle(number)\n",
    "for i in range(7):\n",
    "    Beep(700, 100)\n",
    "    print(number[i])\n",
    "    sleep(3)\n",
    "    "
   ]
  },
  {
   "cell_type": "code",
   "execution_count": null,
   "metadata": {},
   "outputs": [],
   "source": []
  }
 ],
 "metadata": {
  "kernelspec": {
   "display_name": "Python 3",
   "language": "python",
   "name": "python3"
  },
  "language_info": {
   "codemirror_mode": {
    "name": "ipython",
    "version": 3
   },
   "file_extension": ".py",
   "mimetype": "text/x-python",
   "name": "python",
   "nbconvert_exporter": "python",
   "pygments_lexer": "ipython3",
   "version": "3.8.5"
  }
 },
 "nbformat": 4,
 "nbformat_minor": 4
}
