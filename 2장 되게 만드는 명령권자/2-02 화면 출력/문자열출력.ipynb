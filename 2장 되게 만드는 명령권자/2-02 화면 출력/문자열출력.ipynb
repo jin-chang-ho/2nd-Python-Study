{
 "cells": [
  {
   "cell_type": "code",
   "execution_count": 1,
   "metadata": {},
   "outputs": [
    {
     "name": "stdout",
     "output_type": "stream",
     "text": [
      "'동해물과' \"백두산이\"\n",
      "마르고 닳도록\n"
     ]
    }
   ],
   "source": [
    "print(\"'동해물과'\",    '\"백두산이\"')\n",
    "print(\"마르고 닳도록\")"
   ]
  },
  {
   "cell_type": "code",
   "execution_count": 2,
   "metadata": {},
   "outputs": [
    {
     "name": "stdout",
     "output_type": "stream",
     "text": [
      "별 하나에 동경과\n",
      "별 하나에 시와\n",
      "별 하나에 어머니, 어머니\n"
     ]
    }
   ],
   "source": [
    "print(\"별 하나에 동경과\")\n",
    "print(\"별 하나에 시와\")\n",
    "print(\"별 하나에 어머니, 어머니\")"
   ]
  },
  {
   "cell_type": "code",
   "execution_count": null,
   "metadata": {},
   "outputs": [],
   "source": []
  }
 ],
 "metadata": {
  "kernelspec": {
   "display_name": "Python 3",
   "language": "python",
   "name": "python3"
  },
  "language_info": {
   "codemirror_mode": {
    "name": "ipython",
    "version": 3
   },
   "file_extension": ".py",
   "mimetype": "text/x-python",
   "name": "python",
   "nbconvert_exporter": "python",
   "pygments_lexer": "ipython3",
   "version": "3.8.5"
  }
 },
 "nbformat": 4,
 "nbformat_minor": 4
}
