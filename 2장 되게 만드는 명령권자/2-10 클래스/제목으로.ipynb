{
 "cells": [
  {
   "cell_type": "code",
   "execution_count": 1,
   "metadata": {},
   "outputs": [
    {
     "name": "stdout",
     "output_type": "stream",
     "text": [
      "제목입력: the MOST impressive\n",
      "The Most Impressive\n"
     ]
    }
   ],
   "source": [
    "def make_title(str):\n",
    "    list = str.split()\n",
    "    title = \"\"\n",
    "    for i in range(len(list)):\n",
    "        list[i] = list[i].lower()\n",
    "        list[i] = list[i].capitalize()\n",
    "    title = ' '.join(list)\n",
    "    return title\n",
    "    \n",
    "str = input(\"제목입력: \")\n",
    "title = make_title(str)\n",
    "print(title)"
   ]
  },
  {
   "cell_type": "code",
   "execution_count": null,
   "metadata": {},
   "outputs": [],
   "source": []
  }
 ],
 "metadata": {
  "kernelspec": {
   "display_name": "Python 3",
   "language": "python",
   "name": "python3"
  },
  "language_info": {
   "codemirror_mode": {
    "name": "ipython",
    "version": 3
   },
   "file_extension": ".py",
   "mimetype": "text/x-python",
   "name": "python",
   "nbconvert_exporter": "python",
   "pygments_lexer": "ipython3",
   "version": "3.8.5"
  }
 },
 "nbformat": 4,
 "nbformat_minor": 4
}
