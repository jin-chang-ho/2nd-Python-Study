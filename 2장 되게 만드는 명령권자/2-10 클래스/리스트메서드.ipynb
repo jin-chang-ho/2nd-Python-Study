{
 "cells": [
  {
   "cell_type": "code",
   "execution_count": 1,
   "metadata": {},
   "outputs": [
    {
     "name": "stdout",
     "output_type": "stream",
     "text": [
      "\n",
      "[]\n",
      "1: 추가, 2: 삽입, 3: 수정, 4: 삭제, 5: 종료\n",
      "무엇을 할 것입니까? : 1\n",
      "어떤 값을 추가하시겠습니까? : start\n",
      "\n",
      "['start']\n",
      "1: 추가, 2: 삽입, 3: 수정, 4: 삭제, 5: 종료\n",
      "무엇을 할 것입니까? : 2\n",
      "어떤 값을 추가하시겠습니까? : hello\n",
      "몇 번째로 삽입하시겠습니까? : 1\n",
      "\n",
      "['hello', 'start']\n",
      "1: 추가, 2: 삽입, 3: 수정, 4: 삭제, 5: 종료\n",
      "무엇을 할 것입니까? : 3\n",
      "몇 번째 값을 수정하시겠습니까? : 2\n",
      "무엇으로 바꾸시겠습니까? : z\n",
      "\n",
      "['hello', 'z']\n",
      "1: 추가, 2: 삽입, 3: 수정, 4: 삭제, 5: 종료\n",
      "무엇을 할 것입니까? : 4\n",
      "어떤 값을 삭제하시겠습니까? : z\n",
      "\n",
      "['hello']\n",
      "1: 추가, 2: 삽입, 3: 수정, 4: 삭제, 5: 종료\n",
      "무엇을 할 것입니까? : 5\n"
     ]
    }
   ],
   "source": [
    "list_for_user = []\n",
    "while True:\n",
    "    print()\n",
    "    print(list_for_user)\n",
    "    print(\"1: 추가, 2: 삽입, 3: 수정, 4: 삭제, 5: 종료\")\n",
    "    menu = input('무엇을 할 것입니까? : ')\n",
    "    if menu == '5':\n",
    "        break\n",
    "    elif menu == '1':\n",
    "        new_one = input(\"어떤 값을 추가하시겠습니까? : \")\n",
    "        list_for_user.append(new_one)\n",
    "    elif menu == '2':\n",
    "        new_one = input(\"어떤 값을 추가하시겠습니까? : \")\n",
    "        order = input(\"몇 번째로 삽입하시겠습니까? : \")\n",
    "        list_for_user.insert(int(order) - 1, new_one)\n",
    "    elif menu == '3':\n",
    "        order = input(\"몇 번째 값을 수정하시겠습니까? : \")\n",
    "        modified_one = input(\"무엇으로 바꾸시겠습니까? : \")\n",
    "        list_for_user.pop(int(order) - 1)\n",
    "        list_for_user.insert(int(order) - 1, modified_one)\n",
    "    elif menu == '4':\n",
    "        target = input(\"어떤 값을 삭제하시겠습니까? : \")\n",
    "        list_for_user.remove(target)\n",
    "    else:\n",
    "        print(\"다시 입력하세요\")"
   ]
  },
  {
   "cell_type": "code",
   "execution_count": null,
   "metadata": {},
   "outputs": [],
   "source": []
  }
 ],
 "metadata": {
  "kernelspec": {
   "display_name": "Python 3",
   "language": "python",
   "name": "python3"
  },
  "language_info": {
   "codemirror_mode": {
    "name": "ipython",
    "version": 3
   },
   "file_extension": ".py",
   "mimetype": "text/x-python",
   "name": "python",
   "nbconvert_exporter": "python",
   "pygments_lexer": "ipython3",
   "version": "3.8.5"
  }
 },
 "nbformat": 4,
 "nbformat_minor": 4
}
