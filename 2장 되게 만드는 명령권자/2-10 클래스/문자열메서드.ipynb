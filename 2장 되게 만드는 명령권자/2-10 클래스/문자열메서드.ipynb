{
 "cells": [
  {
   "cell_type": "code",
   "execution_count": 1,
   "metadata": {},
   "outputs": [
    {
     "name": "stdout",
     "output_type": "stream",
     "text": [
      "입력 : 가을. 하늘, '공활한데'\n",
      "가을하늘공활한데\n"
     ]
    }
   ],
   "source": [
    "str = input(\"입력 : \")\n",
    "str = str.replace(' ', '')\n",
    "str = str.replace(',', '')\n",
    "str = str.replace(\"'\", '')\n",
    "str = str.replace('.', '')\n",
    "print(str)"
   ]
  },
  {
   "cell_type": "code",
   "execution_count": null,
   "metadata": {},
   "outputs": [],
   "source": []
  }
 ],
 "metadata": {
  "kernelspec": {
   "display_name": "Python 3",
   "language": "python",
   "name": "python3"
  },
  "language_info": {
   "codemirror_mode": {
    "name": "ipython",
    "version": 3
   },
   "file_extension": ".py",
   "mimetype": "text/x-python",
   "name": "python",
   "nbconvert_exporter": "python",
   "pygments_lexer": "ipython3",
   "version": "3.8.5"
  }
 },
 "nbformat": 4,
 "nbformat_minor": 4
}
