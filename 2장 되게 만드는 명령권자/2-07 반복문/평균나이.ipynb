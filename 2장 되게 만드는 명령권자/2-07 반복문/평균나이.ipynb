{
 "cells": [
  {
   "cell_type": "code",
   "execution_count": 1,
   "metadata": {},
   "outputs": [
    {
     "name": "stdout",
     "output_type": "stream",
     "text": [
      "몇 명?: 3\n",
      "학생 1: 19\n",
      "학생 2: 21\n",
      "학생 3: 20\n",
      "평균:  20.0\n"
     ]
    }
   ],
   "source": [
    "people = int(input(\"몇 명?: \"))\n",
    "sum = 0\n",
    "for i in range(people):\n",
    "    age = int(input(\"학생 \" + str(i+1) + \": \"))\n",
    "    sum += age\n",
    "print(\"평균: \", sum / people)"
   ]
  },
  {
   "cell_type": "code",
   "execution_count": 2,
   "metadata": {},
   "outputs": [
    {
     "name": "stdout",
     "output_type": "stream",
     "text": [
      "몇 명?: 3\n",
      "학생 1: 19\n",
      "학생 2: 21\n",
      "학생 3: 20\n",
      "평균:  20.0\n"
     ]
    }
   ],
   "source": [
    "people = int(input(\"몇 명?: \"))\n",
    "sum = 0\n",
    "i = 0\n",
    "while i < people:\n",
    "    age = int(input(\"학생 \" + str(i+1) + \": \"))\n",
    "    sum += age\n",
    "    i = i+1\n",
    "print(\"평균: \", sum / people)"
   ]
  },
  {
   "cell_type": "code",
   "execution_count": null,
   "metadata": {},
   "outputs": [],
   "source": []
  }
 ],
 "metadata": {
  "kernelspec": {
   "display_name": "Python 3",
   "language": "python",
   "name": "python3"
  },
  "language_info": {
   "codemirror_mode": {
    "name": "ipython",
    "version": 3
   },
   "file_extension": ".py",
   "mimetype": "text/x-python",
   "name": "python",
   "nbconvert_exporter": "python",
   "pygments_lexer": "ipython3",
   "version": "3.8.5"
  }
 },
 "nbformat": 4,
 "nbformat_minor": 4
}
