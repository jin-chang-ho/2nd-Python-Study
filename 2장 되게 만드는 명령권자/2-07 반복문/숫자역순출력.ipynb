{
 "cells": [
  {
   "cell_type": "code",
   "execution_count": 1,
   "metadata": {},
   "outputs": [
    {
     "name": "stdout",
     "output_type": "stream",
     "text": [
      "몇 개?: 3\n",
      "숫자 1: 15\n",
      "숫자 2: 13\n",
      "숫자 3: 21\n",
      "21\n",
      "13\n",
      "15\n"
     ]
    }
   ],
   "source": [
    "len = int(input(\"몇 개?: \"))\n",
    "numbers = []\n",
    "for i in range(len):\n",
    "    x = input(\"숫자 \" + str(i + 1) + \": \")\n",
    "    numbers = numbers + [x]\n",
    "for i in range(len-1, -1, -1):\n",
    "    print(numbers[i])"
   ]
  },
  {
   "cell_type": "code",
   "execution_count": 2,
   "metadata": {},
   "outputs": [
    {
     "name": "stdout",
     "output_type": "stream",
     "text": [
      "몇 개?: 3\n",
      "숫자 1: 15\n",
      "숫자 2: 13\n",
      "숫자 3: 21\n",
      "21\n",
      "13\n",
      "15\n"
     ]
    }
   ],
   "source": [
    "len = int(input(\"몇 개?: \"))\n",
    "i = 0\n",
    "numbers = []\n",
    "while i < len:\n",
    "    x = input(\"숫자 \" + str(i + 1) + \": \")\n",
    "    numbers = numbers + [x]\n",
    "    i = i + 1\n",
    "while i > 0:\n",
    "    print(numbers[i-1])\n",
    "    i = i - 1"
   ]
  },
  {
   "cell_type": "code",
   "execution_count": null,
   "metadata": {},
   "outputs": [],
   "source": []
  }
 ],
 "metadata": {
  "kernelspec": {
   "display_name": "Python 3",
   "language": "python",
   "name": "python3"
  },
  "language_info": {
   "codemirror_mode": {
    "name": "ipython",
    "version": 3
   },
   "file_extension": ".py",
   "mimetype": "text/x-python",
   "name": "python",
   "nbconvert_exporter": "python",
   "pygments_lexer": "ipython3",
   "version": "3.8.5"
  }
 },
 "nbformat": 4,
 "nbformat_minor": 4
}
