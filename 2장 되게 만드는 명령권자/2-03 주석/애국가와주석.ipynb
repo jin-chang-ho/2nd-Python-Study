{
 "cells": [
  {
   "cell_type": "code",
   "execution_count": 1,
   "metadata": {},
   "outputs": [
    {
     "name": "stdout",
     "output_type": "stream",
     "text": [
      "동해물과 백두산이 마르고 닳도록\n",
      "하느님이 보우하사 우리나라 만세\n",
      "무궁화 삼천리 화려강산\n",
      "대한사람 대한으로 길이 보전하세\n"
     ]
    }
   ],
   "source": [
    "##############프로그램 정보##############\n",
    "# 프로그램 제작 목적: 애국가 출력 실습\n",
    "# 출력: 애국가 1절\n",
    "# 입력: 없음\n",
    "# print면 충분할 것으로 예상\n",
    "#########################################\n",
    "\n",
    "# 1절 시작\n",
    "print(\"동해물과 백두산이 마르고 닳도록\")\n",
    "print(\"하느님이 보우하사 우리나라 만세\") # 1절 끝\n",
    "\n",
    "'''\n",
    "print(\"남산 위에 저 소나무 철갑을 두른듯\")\n",
    "print(\"바람서리 불변함은 우리 기상일세\")\n",
    "'''\n",
    "# 2절 생략 이유: 1절만으로 충분해서.\n",
    "\n",
    "# 3, 4절도 생략\n",
    "\"\"\"\n",
    "print(\"가을하늘 공활한데 높고 구름없이\")\n",
    "print(\"밝은달은 우리 가슴 일편단심일세\")\n",
    "\n",
    "print(\"이 기상과 이 맘으로 충성을 다하여\")\n",
    "print(\"괴로우나 즐거우나 나라 사랑하세\")\n",
    "\"\"\"\n",
    "\n",
    "# 후렴은 출력하기로 결정\n",
    "\n",
    "# print(\"후렴구\")\n",
    "# 후렴구라는 말은 출력 불필요\n",
    "\n",
    "print(\"무궁화 삼천리 화려강산\")\n",
    "print(\"대한사람 대한으로 길이 보전하세\")\n",
    "\n",
    "# 이후 아리랑 출력 프로그램 실습도 고려"
   ]
  },
  {
   "cell_type": "code",
   "execution_count": null,
   "metadata": {},
   "outputs": [],
   "source": []
  }
 ],
 "metadata": {
  "kernelspec": {
   "display_name": "Python 3",
   "language": "python",
   "name": "python3"
  },
  "language_info": {
   "codemirror_mode": {
    "name": "ipython",
    "version": 3
   },
   "file_extension": ".py",
   "mimetype": "text/x-python",
   "name": "python",
   "nbconvert_exporter": "python",
   "pygments_lexer": "ipython3",
   "version": "3.8.5"
  }
 },
 "nbformat": 4,
 "nbformat_minor": 4
}
