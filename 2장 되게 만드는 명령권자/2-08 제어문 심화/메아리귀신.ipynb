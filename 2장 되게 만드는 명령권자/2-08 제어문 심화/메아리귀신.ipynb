{
 "cells": [
  {
   "cell_type": "code",
   "execution_count": 1,
   "metadata": {},
   "outputs": [
    {
     "name": "stdout",
     "output_type": "stream",
     "text": [
      "오늘은 많이 힘들었어\n",
      "어?\n",
      "자넨 요즘 잘 지내나?\n",
      "나?\n",
      "졸리고 배고파.\n",
      "파?\n",
      "집에 전화는 해 보셨어요?\n",
      "히-히히히!\n"
     ]
    }
   ],
   "source": [
    "while True:\n",
    "    str = input()\n",
    "    last = str[-1]\n",
    "    if(last == '.' or last == '?'):\n",
    "        last = str[-2]\n",
    "    if(last == \"요\"):\n",
    "        print(\"히-히히히!\")\n",
    "        break\n",
    "    print(last + \"?\")"
   ]
  },
  {
   "cell_type": "code",
   "execution_count": null,
   "metadata": {},
   "outputs": [],
   "source": []
  }
 ],
 "metadata": {
  "kernelspec": {
   "display_name": "Python 3",
   "language": "python",
   "name": "python3"
  },
  "language_info": {
   "codemirror_mode": {
    "name": "ipython",
    "version": 3
   },
   "file_extension": ".py",
   "mimetype": "text/x-python",
   "name": "python",
   "nbconvert_exporter": "python",
   "pygments_lexer": "ipython3",
   "version": "3.8.5"
  }
 },
 "nbformat": 4,
 "nbformat_minor": 4
}
