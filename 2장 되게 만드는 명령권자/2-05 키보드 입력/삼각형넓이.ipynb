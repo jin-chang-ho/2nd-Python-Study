{
 "cells": [
  {
   "cell_type": "code",
   "execution_count": 1,
   "metadata": {},
   "outputs": [
    {
     "name": "stdout",
     "output_type": "stream",
     "text": [
      "밑변 : 5\n",
      "높이 : 2\n",
      "삼각형의 넓이는 5.0입니다.\n"
     ]
    }
   ],
   "source": [
    "print(\"삼각형의 넓이 구하기\")\n",
    "w = float(input(\"밑변 : \"))\n",
    "h = float(input(\"높이 : \"))\n",
    "print(\"삼각형의 넓이는 \" + str(w*h/2) + \"입니다.\")"
   ]
  },
  {
   "cell_type": "code",
   "execution_count": 2,
   "metadata": {},
   "outputs": [
    {
     "name": "stdout",
     "output_type": "stream",
     "text": [
      "학생 1의 이름: 김철수\n",
      "학생 2의 이름: 박영희\n",
      "철수♥영희\n"
     ]
    }
   ],
   "source": [
    "first = input(\"학생 1의 이름: \")\n",
    "second = input(\"학생 2의 이름: \")\n",
    "print(first[1:] + '♥' + second[1:])"
   ]
  },
  {
   "cell_type": "code",
   "execution_count": null,
   "metadata": {},
   "outputs": [],
   "source": []
  }
 ],
 "metadata": {
  "kernelspec": {
   "display_name": "Python 3",
   "language": "python",
   "name": "python3"
  },
  "language_info": {
   "codemirror_mode": {
    "name": "ipython",
    "version": 3
   },
   "file_extension": ".py",
   "mimetype": "text/x-python",
   "name": "python",
   "nbconvert_exporter": "python",
   "pygments_lexer": "ipython3",
   "version": "3.8.5"
  }
 },
 "nbformat": 4,
 "nbformat_minor": 4
}
