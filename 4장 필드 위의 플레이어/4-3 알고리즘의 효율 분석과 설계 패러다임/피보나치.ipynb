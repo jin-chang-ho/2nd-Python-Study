{
 "cells": [
  {
   "cell_type": "code",
   "execution_count": 1,
   "metadata": {},
   "outputs": [
    {
     "name": "stdout",
     "output_type": "stream",
     "text": [
      "102334155\n"
     ]
    }
   ],
   "source": [
    "def fi(n):\n",
    "    if n == 1 or n == 2:\n",
    "        return 1\n",
    "    return fi(n-1) + fi(n-2)\n",
    "\n",
    "print(fi(40))"
   ]
  },
  {
   "cell_type": "code",
   "execution_count": 2,
   "metadata": {},
   "outputs": [
    {
     "name": "stdout",
     "output_type": "stream",
     "text": [
      "102334155\n"
     ]
    }
   ],
   "source": [
    "def fi(n):\n",
    "    f = [0, 1]\n",
    "    for i in range(2, n + 1):\n",
    "        f += [f[i-2] + f[i-1]]\n",
    "    return f[n]\n",
    "\n",
    "print(fi(40))"
   ]
  },
  {
   "cell_type": "code",
   "execution_count": 3,
   "metadata": {},
   "outputs": [
    {
     "name": "stdout",
     "output_type": "stream",
     "text": [
      "n: 40\n",
      "102334155\n"
     ]
    }
   ],
   "source": [
    "fibo = {}\n",
    "\n",
    "def fi(n):\n",
    "    if n == 1 or n == 2:\n",
    "        fibo[n] = 1\n",
    "        return fibo[n]\n",
    "    \n",
    "    a = fibo.get(n-1)\n",
    "    if not a:\n",
    "        fibo[n-1] = fi(n-1)\n",
    "        \n",
    "    b = fibo.get(n-2)\n",
    "    if not b:\n",
    "        fibo[n-2] = fi(n-2)\n",
    "        \n",
    "    return fibo[n-1] + fibo[n-2]\n",
    "\n",
    "n = int(input(\"n: \"))\n",
    "print(fi(n))"
   ]
  },
  {
   "cell_type": "code",
   "execution_count": null,
   "metadata": {},
   "outputs": [],
   "source": []
  }
 ],
 "metadata": {
  "kernelspec": {
   "display_name": "Python 3",
   "language": "python",
   "name": "python3"
  },
  "language_info": {
   "codemirror_mode": {
    "name": "ipython",
    "version": 3
   },
   "file_extension": ".py",
   "mimetype": "text/x-python",
   "name": "python",
   "nbconvert_exporter": "python",
   "pygments_lexer": "ipython3",
   "version": "3.8.5"
  }
 },
 "nbformat": 4,
 "nbformat_minor": 4
}
