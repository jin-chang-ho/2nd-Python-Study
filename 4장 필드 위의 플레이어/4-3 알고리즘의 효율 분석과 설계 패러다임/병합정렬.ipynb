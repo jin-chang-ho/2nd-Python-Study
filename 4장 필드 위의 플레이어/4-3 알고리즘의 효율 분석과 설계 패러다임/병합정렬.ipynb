{
 "cells": [
  {
   "cell_type": "code",
   "execution_count": 8,
   "metadata": {},
   "outputs": [
    {
     "name": "stdout",
     "output_type": "stream",
     "text": [
      "숫자를 띄워서 입력하시오: 15 2 52 7 1 63 31\n",
      "[1, 2, 7, 15, 31, 52, 63]\n"
     ]
    }
   ],
   "source": [
    "def divide(numbers, start, end):\n",
    "    if end - start <= 0:\n",
    "        return\n",
    "    mid = (start + end) // 2\n",
    "    divide(numbers, start, mid)\n",
    "    divide(numbers, mid + 1, end)\n",
    "    merge(numbers, start, mid, end)\n",
    "\n",
    "def merge(numbers, start, mid, end):\n",
    "    sub = [None] * (end - start + 1)\n",
    "    first = start\n",
    "    second = mid + 1\n",
    "    for i in range(len(sub)):\n",
    "        if first == mid + 1:\n",
    "            sub[i] = numbers[second]\n",
    "            second = second + 1\n",
    "        elif second == end + 1:\n",
    "            sub[i] = numbers[first]\n",
    "            first = first + 1\n",
    "        else:\n",
    "            if numbers[first] < numbers[second]:\n",
    "                sub[i] = numbers[first]\n",
    "                first = first + 1\n",
    "            else:\n",
    "                sub[i] = numbers[second]\n",
    "                second = second + 1\n",
    "    numbers[start:end+1] = sub[:]\n",
    "    \n",
    "def mergesort(numbers):\n",
    "    divide(numbers, 0, len(numbers) - 1)\n",
    "    \n",
    "numbers = [int(i) for i in input(\"숫자를 띄워서 입력하시오: \").split()]\n",
    "mergesort(numbers)\n",
    "print(numbers)"
   ]
  },
  {
   "cell_type": "code",
   "execution_count": null,
   "metadata": {},
   "outputs": [],
   "source": []
  }
 ],
 "metadata": {
  "kernelspec": {
   "display_name": "Python 3",
   "language": "python",
   "name": "python3"
  },
  "language_info": {
   "codemirror_mode": {
    "name": "ipython",
    "version": 3
   },
   "file_extension": ".py",
   "mimetype": "text/x-python",
   "name": "python",
   "nbconvert_exporter": "python",
   "pygments_lexer": "ipython3",
   "version": "3.8.5"
  }
 },
 "nbformat": 4,
 "nbformat_minor": 4
}
