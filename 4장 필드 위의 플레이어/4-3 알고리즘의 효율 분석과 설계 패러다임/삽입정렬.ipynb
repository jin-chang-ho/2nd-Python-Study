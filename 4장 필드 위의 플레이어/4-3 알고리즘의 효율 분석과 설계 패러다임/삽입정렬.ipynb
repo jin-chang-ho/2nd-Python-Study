{
 "cells": [
  {
   "cell_type": "code",
   "execution_count": 1,
   "metadata": {},
   "outputs": [
    {
     "name": "stdout",
     "output_type": "stream",
     "text": [
      "숫자를 한 칸씩 띄워서 입력하시오: 4 2 7 1\n",
      "[1, 2, 4, 7]\n"
     ]
    }
   ],
   "source": [
    "numbers = [int(i) for i in input(\"숫자를 한 칸씩 띄워서 입력하시오: \").split()]\n",
    "\n",
    "for i in range(1, len(numbers)):\n",
    "    if numbers[i-1] > numbers[i]:\n",
    "        j = i\n",
    "        while True:\n",
    "            if j == 0 or numbers[j-1] < numbers[j]:\n",
    "                break\n",
    "            temp = numbers[j-1]\n",
    "            numbers[j-1] = numbers[j]\n",
    "            numbers[j] = temp\n",
    "            j = j - 1\n",
    "            \n",
    "print(numbers)"
   ]
  },
  {
   "cell_type": "markdown",
   "metadata": {},
   "source": []
  }
 ],
 "metadata": {
  "kernelspec": {
   "display_name": "Python 3",
   "language": "python",
   "name": "python3"
  },
  "language_info": {
   "codemirror_mode": {
    "name": "ipython",
    "version": 3
   },
   "file_extension": ".py",
   "mimetype": "text/x-python",
   "name": "python",
   "nbconvert_exporter": "python",
   "pygments_lexer": "ipython3",
   "version": "3.8.5"
  }
 },
 "nbformat": 4,
 "nbformat_minor": 4
}
