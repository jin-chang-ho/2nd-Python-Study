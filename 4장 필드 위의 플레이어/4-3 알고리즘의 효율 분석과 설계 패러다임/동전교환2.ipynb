{
 "cells": [
  {
   "cell_type": "code",
   "execution_count": 1,
   "metadata": {},
   "outputs": [
    {
     "name": "stdout",
     "output_type": "stream",
     "text": [
      "거슬러줄 금액: 750\n",
      "동전의 종류: 500 100 50 10\n",
      "4\n"
     ]
    }
   ],
   "source": [
    "result = 0\n",
    "change = 0\n",
    "coins = []\n",
    "max_coins = []\n",
    "\n",
    "def get_data():\n",
    "    global change\n",
    "    global coins\n",
    "    change = int(input(\"거슬러줄 금액: \"))\n",
    "    coins = [int(i) for i in input(\"동전의 종류: \").split()]\n",
    "\n",
    "def total_value(combination, coins):\n",
    "    total = 0\n",
    "    for i in range(len(coins)):\n",
    "        total += combination[i] * coins[i]\n",
    "    return total\n",
    "    \n",
    "def get_answer(combination):\n",
    "    global result\n",
    "    while sum(combination):\n",
    "        if total_value(combination, coins) == change:\n",
    "            if not result:\n",
    "                result = sum(combination)\n",
    "            else:\n",
    "                if result > sum(combination):\n",
    "                    result = sum(combination)\n",
    "            \n",
    "        combination[-1] -= 1\n",
    "        for i in range(len(combination) - 1, 0, -1):\n",
    "            if combination[i] == -1:\n",
    "                combination[i] = max_coins[i]\n",
    "                combination[i-1] -= 1\n",
    "        \n",
    "get_data()\n",
    "max_coins = [change // i for i in coins]\n",
    "get_answer(max_coins[:])\n",
    "print(result)"
   ]
  },
  {
   "cell_type": "code",
   "execution_count": null,
   "metadata": {},
   "outputs": [],
   "source": []
  }
 ],
 "metadata": {
  "kernelspec": {
   "display_name": "Python 3",
   "language": "python",
   "name": "python3"
  },
  "language_info": {
   "codemirror_mode": {
    "name": "ipython",
    "version": 3
   },
   "file_extension": ".py",
   "mimetype": "text/x-python",
   "name": "python",
   "nbconvert_exporter": "python",
   "pygments_lexer": "ipython3",
   "version": "3.8.5"
  }
 },
 "nbformat": 4,
 "nbformat_minor": 4
}
