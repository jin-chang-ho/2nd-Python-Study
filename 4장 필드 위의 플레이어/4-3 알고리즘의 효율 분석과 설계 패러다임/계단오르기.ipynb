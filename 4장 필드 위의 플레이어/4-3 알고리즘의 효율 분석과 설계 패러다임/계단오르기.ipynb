{
 "cells": [
  {
   "cell_type": "code",
   "execution_count": 1,
   "metadata": {},
   "outputs": [
    {
     "name": "stdout",
     "output_type": "stream",
     "text": [
      "n: 5\n",
      "13\n"
     ]
    }
   ],
   "source": [
    "mem = [1, 2, 3]\n",
    "count = 0\n",
    "\n",
    "def coin(n):\n",
    "    global count\n",
    "    for i in mem:\n",
    "        if n == 0:\n",
    "            count = count + 1\n",
    "            return\n",
    "        if n - i < 0:\n",
    "            return\n",
    "        coin(n - i)\n",
    "            \n",
    "    \n",
    "n = int(input(\"n: \"))\n",
    "coin(n)\n",
    "print(count)\n",
    "    "
   ]
  },
  {
   "cell_type": "markdown",
   "metadata": {},
   "source": []
  }
 ],
 "metadata": {
  "kernelspec": {
   "display_name": "Python 3",
   "language": "python",
   "name": "python3"
  },
  "language_info": {
   "codemirror_mode": {
    "name": "ipython",
    "version": 3
   },
   "file_extension": ".py",
   "mimetype": "text/x-python",
   "name": "python",
   "nbconvert_exporter": "python",
   "pygments_lexer": "ipython3",
   "version": "3.8.5"
  }
 },
 "nbformat": 4,
 "nbformat_minor": 4
}
