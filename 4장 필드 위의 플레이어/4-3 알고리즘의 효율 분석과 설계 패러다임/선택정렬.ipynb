{
 "cells": [
  {
   "cell_type": "code",
   "execution_count": 1,
   "metadata": {},
   "outputs": [
    {
     "name": "stdout",
     "output_type": "stream",
     "text": [
      "숫자를 한 칸씩 띄어서 입력하시오: 5 9 13 11 2\n",
      "[2, 5, 9, 11, 13]\n"
     ]
    }
   ],
   "source": [
    "numbers = [int(i) for i in input(\"숫자를 한 칸씩 띄어서 입력하시오: \").split()]\n",
    "for i in range(len(numbers)-1):\n",
    "    index = i\n",
    "    for j in range(i+1, len(numbers)):\n",
    "        if numbers[index] > numbers[j]:\n",
    "            index = j\n",
    "            \n",
    "    if i != index:\n",
    "        temp = numbers[i]\n",
    "        numbers[i] = numbers[index]\n",
    "        numbers[index] = temp\n",
    "        \n",
    "print(numbers)"
   ]
  },
  {
   "cell_type": "code",
   "execution_count": null,
   "metadata": {},
   "outputs": [],
   "source": []
  }
 ],
 "metadata": {
  "kernelspec": {
   "display_name": "Python 3",
   "language": "python",
   "name": "python3"
  },
  "language_info": {
   "codemirror_mode": {
    "name": "ipython",
    "version": 3
   },
   "file_extension": ".py",
   "mimetype": "text/x-python",
   "name": "python",
   "nbconvert_exporter": "python",
   "pygments_lexer": "ipython3",
   "version": "3.8.5"
  }
 },
 "nbformat": 4,
 "nbformat_minor": 4
}
