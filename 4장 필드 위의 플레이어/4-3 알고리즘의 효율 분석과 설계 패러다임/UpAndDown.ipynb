{
 "cells": [
  {
   "cell_type": "code",
   "execution_count": 1,
   "metadata": {},
   "outputs": [
    {
     "name": "stdout",
     "output_type": "stream",
     "text": [
      "1. Up\n",
      "2. Down\n",
      "3. Yes\n",
      "당신의 숫자는 50입니까?: 1\n",
      "당신의 숫자는 75입니까?: 1\n",
      "당신의 숫자는 87입니까?: 1\n",
      "당신의 숫자는 93입니까?: 1\n",
      "당신의 숫자는 96입니까?: 2\n",
      "당신의 숫자는 94입니까?: 1\n",
      "당신의 숫자는 95입니다.\n"
     ]
    }
   ],
   "source": [
    "from time import sleep\n",
    "print('1. Up')\n",
    "print('2. Down')\n",
    "print('3. Yes')\n",
    "sleep(0.1)\n",
    "\n",
    "min_number = 1\n",
    "number = 50\n",
    "max_number = 100\n",
    "\n",
    "while True:\n",
    "    user = int(input(\"당신의 숫자는 %d입니까?: \" % (number)))\n",
    "    if user == 1:\n",
    "        min_number = number\n",
    "        number = (min_number + max_number) // 2\n",
    "    elif user == 2:\n",
    "        max_number = number\n",
    "        number = (min_number + max_number) // 2\n",
    "    else:\n",
    "        break\n",
    "    if min_number + 1 == max_number - 1:\n",
    "        number = min_number + 1\n",
    "        break\n",
    "\n",
    "print(\"당신의 숫자는 %d입니다.\" % (number))"
   ]
  },
  {
   "cell_type": "code",
   "execution_count": null,
   "metadata": {},
   "outputs": [],
   "source": []
  }
 ],
 "metadata": {
  "kernelspec": {
   "display_name": "Python 3",
   "language": "python",
   "name": "python3"
  },
  "language_info": {
   "codemirror_mode": {
    "name": "ipython",
    "version": 3
   },
   "file_extension": ".py",
   "mimetype": "text/x-python",
   "name": "python",
   "nbconvert_exporter": "python",
   "pygments_lexer": "ipython3",
   "version": "3.8.5"
  }
 },
 "nbformat": 4,
 "nbformat_minor": 4
}
