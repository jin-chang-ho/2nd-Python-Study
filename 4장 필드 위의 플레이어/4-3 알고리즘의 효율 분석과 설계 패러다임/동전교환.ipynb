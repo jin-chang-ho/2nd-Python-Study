{
 "cells": [
  {
   "cell_type": "code",
   "execution_count": 1,
   "metadata": {},
   "outputs": [
    {
     "name": "stdout",
     "output_type": "stream",
     "text": [
      "거슬러줄 금액: 750\n",
      "4\n"
     ]
    }
   ],
   "source": [
    "coins = [500, 100, 50, 10]\n",
    "change = int(input(\"거슬러줄 금액: \"))\n",
    "count = 0\n",
    "\n",
    "for n in coins:\n",
    "    if not change:\n",
    "        break\n",
    "    count += change // n\n",
    "    change = change % n\n",
    "\n",
    "print(count)"
   ]
  },
  {
   "cell_type": "code",
   "execution_count": 2,
   "metadata": {},
   "outputs": [
    {
     "name": "stdout",
     "output_type": "stream",
     "text": [
      "거슬러줄 금액: 750\n",
      "동전의 종류: 500 100 50 10\n",
      "4\n"
     ]
    }
   ],
   "source": [
    "mem = dict()\n",
    "\n",
    "def get_answer(n):\n",
    "    if n in coins:\n",
    "        mem[n] = 1\n",
    "        return 1\n",
    "    ava = []\n",
    "    for i in coins:\n",
    "        if n - i > 0:\n",
    "            memo = mem.get(n-i)\n",
    "            if memo:\n",
    "                ava.append(memo)\n",
    "            else:\n",
    "                ava.append(get_answer(n-i))\n",
    "    mem[n] = min(ava) + 1\n",
    "    return mem[n]\n",
    "\n",
    "change = int(input(\"거슬러줄 금액: \"))\n",
    "coins = [int(i) for i in input(\"동전의 종류: \").split()]\n",
    "print(get_answer(change))"
   ]
  },
  {
   "cell_type": "code",
   "execution_count": 3,
   "metadata": {},
   "outputs": [
    {
     "name": "stdout",
     "output_type": "stream",
     "text": [
      "거슬러줄 금액: 750\n",
      "4\n"
     ]
    }
   ],
   "source": [
    "change = int(input(\"거슬러줄 금액: \"))\n",
    "\n",
    "available_answer = []\n",
    "for i1 in range((change // 500) + 1):\n",
    "    for i2 in range((change // 100) + 1):\n",
    "        for i3 in range((change // 50) + 1):\n",
    "            for i4 in range((change // 10) + 1):\n",
    "                if i1 * 500 + i2 * 100 + i3 * 50 + i4 * 10 == change:\n",
    "                    available_answer.append(i1 + i2 + i3 + i4)\n",
    "\n",
    "print(min(available_answer))"
   ]
  },
  {
   "cell_type": "code",
   "execution_count": null,
   "metadata": {},
   "outputs": [],
   "source": []
  }
 ],
 "metadata": {
  "kernelspec": {
   "display_name": "Python 3",
   "language": "python",
   "name": "python3"
  },
  "language_info": {
   "codemirror_mode": {
    "name": "ipython",
    "version": 3
   },
   "file_extension": ".py",
   "mimetype": "text/x-python",
   "name": "python",
   "nbconvert_exporter": "python",
   "pygments_lexer": "ipython3",
   "version": "3.8.5"
  }
 },
 "nbformat": 4,
 "nbformat_minor": 4
}
