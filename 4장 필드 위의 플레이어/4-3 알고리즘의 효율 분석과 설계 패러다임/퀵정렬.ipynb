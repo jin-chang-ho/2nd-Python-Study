{
 "cells": [
  {
   "cell_type": "code",
   "execution_count": 1,
   "metadata": {},
   "outputs": [
    {
     "name": "stdout",
     "output_type": "stream",
     "text": [
      "넣을 숫자를 띄워서 입력하시오: 15 2 52 7 1 63 31\n",
      "[1, 2, 7, 15, 31, 52, 63]\n"
     ]
    }
   ],
   "source": [
    "def quick(numbers, start, end):\n",
    "    if end - start <= 0:\n",
    "        return\n",
    "    pivot = start\n",
    "    for i in range(start + 1, end + 1):\n",
    "        if numbers[pivot] > numbers[i]:\n",
    "            numbers.insert(pivot, numbers.pop(i))\n",
    "            pivot = pivot + 1  \n",
    "    quick(numbers, 0, pivot - 1)\n",
    "    quick(numbers, pivot + 1, end)\n",
    "    \n",
    "def quicksort(numbers):\n",
    "    quick(numbers, 0, len(numbers) - 1)\n",
    "    \n",
    "numbers = [int(i) for i in input(\"넣을 숫자를 띄워서 입력하시오: \").split()]\n",
    "quicksort(numbers)\n",
    "print(numbers)"
   ]
  },
  {
   "cell_type": "code",
   "execution_count": null,
   "metadata": {},
   "outputs": [],
   "source": []
  }
 ],
 "metadata": {
  "kernelspec": {
   "display_name": "Python 3",
   "language": "python",
   "name": "python3"
  },
  "language_info": {
   "codemirror_mode": {
    "name": "ipython",
    "version": 3
   },
   "file_extension": ".py",
   "mimetype": "text/x-python",
   "name": "python",
   "nbconvert_exporter": "python",
   "pygments_lexer": "ipython3",
   "version": "3.8.5"
  }
 },
 "nbformat": 4,
 "nbformat_minor": 4
}
