{
 "cells": [
  {
   "cell_type": "code",
   "execution_count": 2,
   "metadata": {},
   "outputs": [
    {
     "name": "stdout",
     "output_type": "stream",
     "text": [
      "자연수: 5\n",
      "자연수인 양의 제곱근이 존재하지 않음\n"
     ]
    }
   ],
   "source": [
    "number = int(input(\"자연수: \"))\n",
    "if number == 1:\n",
    "    print(\"양의 제곱근 : 1\")\n",
    "else:\n",
    "    for i in range(1, number):\n",
    "        if i*i > number:\n",
    "            print(\"자연수인 양의 제곱근이 존재하지 않음\")\n",
    "            break\n",
    "        elif i*i == number:\n",
    "            print(\"양의 제곱근 :\", i)\n",
    "            break"
   ]
  },
  {
   "cell_type": "code",
   "execution_count": null,
   "metadata": {},
   "outputs": [],
   "source": []
  }
 ],
 "metadata": {
  "kernelspec": {
   "display_name": "Python 3",
   "language": "python",
   "name": "python3"
  },
  "language_info": {
   "codemirror_mode": {
    "name": "ipython",
    "version": 3
   },
   "file_extension": ".py",
   "mimetype": "text/x-python",
   "name": "python",
   "nbconvert_exporter": "python",
   "pygments_lexer": "ipython3",
   "version": "3.8.5"
  }
 },
 "nbformat": 4,
 "nbformat_minor": 4
}
