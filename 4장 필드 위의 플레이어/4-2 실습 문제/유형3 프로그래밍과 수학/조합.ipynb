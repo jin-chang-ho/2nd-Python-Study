{
 "cells": [
  {
   "cell_type": "code",
   "execution_count": 2,
   "metadata": {},
   "outputs": [
    {
     "name": "stdout",
     "output_type": "stream",
     "text": [
      "n: 5\n",
      "r: 2\n",
      "결과: 10\n"
     ]
    }
   ],
   "source": [
    "def factorial(n):\n",
    "    if n == 1:\n",
    "        return 1\n",
    "    return n * factorial(n-1)\n",
    "def c(number1, number2):\n",
    "    return factorial(number1) // (factorial(number2) * factorial(number1 - number2))\n",
    "\n",
    "n = int(input(\"n: \"))\n",
    "r = int(input(\"r: \"))\n",
    "print(\"결과:\", c(n,r))"
   ]
  },
  {
   "cell_type": "code",
   "execution_count": null,
   "metadata": {},
   "outputs": [],
   "source": []
  }
 ],
 "metadata": {
  "kernelspec": {
   "display_name": "Python 3",
   "language": "python",
   "name": "python3"
  }
 },
 "nbformat": 4,
 "nbformat_minor": 4
}
