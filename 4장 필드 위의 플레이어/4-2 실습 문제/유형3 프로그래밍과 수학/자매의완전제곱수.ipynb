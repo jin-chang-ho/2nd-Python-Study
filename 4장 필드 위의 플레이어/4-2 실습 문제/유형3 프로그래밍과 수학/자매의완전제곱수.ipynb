{
 "cells": [
  {
   "cell_type": "code",
   "execution_count": 1,
   "metadata": {},
   "outputs": [
    {
     "name": "stdout",
     "output_type": "stream",
     "text": [
      "k: 3105275625\n",
      "n: 55725\n",
      "i: 111449\n"
     ]
    }
   ],
   "source": [
    "k = int(input(\"k: \"))\n",
    "i = 1\n",
    "sum = 0\n",
    "while True:\n",
    "    sum = sum + i\n",
    "    if sum == k:\n",
    "        print(\"n:\", int(k ** (1/2)))\n",
    "        print(\"i:\", i)\n",
    "        break\n",
    "    i = i + 2\n",
    "        "
   ]
  },
  {
   "cell_type": "code",
   "execution_count": null,
   "metadata": {},
   "outputs": [],
   "source": []
  }
 ],
 "metadata": {
  "kernelspec": {
   "display_name": "Python 3",
   "language": "python",
   "name": "python3"
  },
  "language_info": {
   "codemirror_mode": {
    "name": "ipython",
    "version": 3
   },
   "file_extension": ".py",
   "mimetype": "text/x-python",
   "name": "python",
   "nbconvert_exporter": "python",
   "pygments_lexer": "ipython3",
   "version": "3.8.5"
  }
 },
 "nbformat": 4,
 "nbformat_minor": 4
}
