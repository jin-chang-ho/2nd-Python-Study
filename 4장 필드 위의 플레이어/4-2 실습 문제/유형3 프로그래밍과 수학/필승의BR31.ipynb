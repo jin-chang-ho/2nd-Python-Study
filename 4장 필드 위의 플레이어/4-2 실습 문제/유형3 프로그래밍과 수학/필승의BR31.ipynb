{
 "cells": [
  {
   "cell_type": "code",
   "execution_count": 1,
   "metadata": {},
   "outputs": [
    {
     "name": "stdout",
     "output_type": "stream",
     "text": [
      "컴퓨터: 1 2\n",
      "사람: 3 4\n",
      "컴퓨터: 5 6\n",
      "사람: 7\n",
      "컴퓨터: 8 9 10\n",
      "사람: 11 12\n",
      "컴퓨터: 13 14\n",
      "사람: 15 16 17\n",
      "컴퓨터: 18\n",
      "사람: 19 20\n",
      "컴퓨터: 21 22\n",
      "사람: 23 24 25\n",
      "컴퓨터: 26\n",
      "사람: 27\n",
      "컴퓨터: 28 29 30\n",
      "사람: 31\n",
      "사람 패배\n"
     ]
    }
   ],
   "source": [
    "from time import sleep\n",
    "numbers = [str(i) for i in range(1,32)]\n",
    "computer = []\n",
    "user = []\n",
    "count = 0\n",
    "computer_start = 0\n",
    "\n",
    "while True:\n",
    "    computer_end = 2 + 4 * count  \n",
    "    computer = numbers[computer_start : computer_end]\n",
    "    print(\"컴퓨터:\", \" \".join(computer))\n",
    "    if str(31) in computer:\n",
    "        print(\"컴퓨터 패배\")\n",
    "        break\n",
    "    sleep(0.1)\n",
    "    user = input(\"사람: \").split()\n",
    "    if str(31) in user:\n",
    "        print(\"사람 패배\")\n",
    "        break\n",
    "    computer_start = int(user[-1])\n",
    "    count = count + 1"
   ]
  },
  {
   "cell_type": "code",
   "execution_count": null,
   "metadata": {},
   "outputs": [],
   "source": []
  }
 ],
 "metadata": {
  "kernelspec": {
   "display_name": "Python 3",
   "language": "python",
   "name": "python3"
  },
  "language_info": {
   "codemirror_mode": {
    "name": "ipython",
    "version": 3
   },
   "file_extension": ".py",
   "mimetype": "text/x-python",
   "name": "python",
   "nbconvert_exporter": "python",
   "pygments_lexer": "ipython3",
   "version": "3.8.5"
  }
 },
 "nbformat": 4,
 "nbformat_minor": 4
}
