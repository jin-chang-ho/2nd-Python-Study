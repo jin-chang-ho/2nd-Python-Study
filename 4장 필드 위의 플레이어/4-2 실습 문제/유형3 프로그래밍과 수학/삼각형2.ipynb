{
 "cells": [
  {
   "cell_type": "code",
   "execution_count": 1,
   "metadata": {},
   "outputs": [
    {
     "name": "stdout",
     "output_type": "stream",
     "text": [
      "n: 4\n",
      "   *\n",
      "  **\n",
      " ***\n",
      "****\n"
     ]
    }
   ],
   "source": [
    "n = int(input(\"n: \"))\n",
    "for i in range(n):\n",
    "    for j in range(n-i-1):\n",
    "        print(\" \", end = \"\")\n",
    "    for j in range(i+1):\n",
    "        print(\"*\", end = \"\")\n",
    "    print()"
   ]
  },
  {
   "cell_type": "code",
   "execution_count": 2,
   "metadata": {},
   "outputs": [
    {
     "name": "stdout",
     "output_type": "stream",
     "text": [
      "n: 4\n",
      "****\n",
      " ***\n",
      "  **\n",
      "   *\n"
     ]
    }
   ],
   "source": [
    "n = int(input(\"n: \"))\n",
    "for i in range(n):\n",
    "    for j in range(i):\n",
    "        print(\" \", end = \"\")\n",
    "    for j in range(n-i, 0, -1):\n",
    "        print(\"*\", end = \"\")\n",
    "    print()"
   ]
  },
  {
   "cell_type": "code",
   "execution_count": null,
   "metadata": {},
   "outputs": [],
   "source": []
  }
 ],
 "metadata": {
  "kernelspec": {
   "display_name": "Python 3",
   "language": "python",
   "name": "python3"
  },
  "language_info": {
   "codemirror_mode": {
    "name": "ipython",
    "version": 3
   },
   "file_extension": ".py",
   "mimetype": "text/x-python",
   "name": "python",
   "nbconvert_exporter": "python",
   "pygments_lexer": "ipython3",
   "version": "3.8.5"
  }
 },
 "nbformat": 4,
 "nbformat_minor": 4
}
