{
 "cells": [
  {
   "cell_type": "code",
   "execution_count": 1,
   "metadata": {},
   "outputs": [
    {
     "name": "stdout",
     "output_type": "stream",
     "text": [
      "n: 5\n",
      "1\n",
      "11\n",
      "12\n",
      "1121\n",
      "122111\n"
     ]
    }
   ],
   "source": [
    "n = int(input(\"n: \"))\n",
    "line = str(1)\n",
    "print(line)\n",
    "line_list = line.split()\n",
    "count = 0\n",
    "for i in range(n-1):\n",
    "    for j in range(len(line_list)):\n",
    "        count = count + 1\n",
    "        if j + 1 >=  len(line_list):\n",
    "            break\n",
    "        if line_list[j] != line_list[j+1]:\n",
    "            line = line + \" \" + str(count) + \" \" + line_list[j+1]\n",
    "            count = 0\n",
    "    line = line + \" \" + str(count)\n",
    "    line_list = line.split()\n",
    "    for j in line_list:\n",
    "        print(j, end=\"\")\n",
    "    count = 0\n",
    "    print()\n",
    "    line = line_list[0]"
   ]
  },
  {
   "cell_type": "code",
   "execution_count": 2,
   "metadata": {},
   "outputs": [
    {
     "name": "stdout",
     "output_type": "stream",
     "text": [
      "n번째 행: 122111\n",
      "n-1번째 행: 1121"
     ]
    }
   ],
   "source": [
    "n = input(\"n번째 행: \")\n",
    "n = \" \".join(n)\n",
    "n_list = [int(i) for i in n.split()]\n",
    "print(\"n-1번째 행: \", end = \"\")\n",
    "for i in range(1, len(n_list), 2):\n",
    "    for j in range(n_list[i]):\n",
    "        print(n_list[i-1], end = \"\")"
   ]
  },
  {
   "cell_type": "code",
   "execution_count": null,
   "metadata": {},
   "outputs": [],
   "source": []
  }
 ],
 "metadata": {
  "kernelspec": {
   "display_name": "Python 3",
   "language": "python",
   "name": "python3"
  },
  "language_info": {
   "codemirror_mode": {
    "name": "ipython",
    "version": 3
   },
   "file_extension": ".py",
   "mimetype": "text/x-python",
   "name": "python",
   "nbconvert_exporter": "python",
   "pygments_lexer": "ipython3",
   "version": "3.8.5"
  }
 },
 "nbformat": 4,
 "nbformat_minor": 4
}
