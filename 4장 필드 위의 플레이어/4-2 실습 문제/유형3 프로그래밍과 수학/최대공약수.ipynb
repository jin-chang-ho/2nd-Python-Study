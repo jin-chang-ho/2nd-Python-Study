{
 "cells": [
  {
   "cell_type": "code",
   "execution_count": 1,
   "metadata": {},
   "outputs": [
    {
     "name": "stdout",
     "output_type": "stream",
     "text": [
      "a: 4\n",
      "b: 12\n",
      "4\n"
     ]
    }
   ],
   "source": [
    "a = int(input(\"a: \"))\n",
    "b = int(input(\"b: \"))\n",
    "a_list = []\n",
    "b_list = []\n",
    "n_list = []\n",
    "for i in range(1, a+1):\n",
    "    if a % i == 0:\n",
    "        a_list = a_list + [i]\n",
    "for i in range(1, b+1):\n",
    "    if b % i == 0:\n",
    "        b_list = b_list + [i]\n",
    "for i in a_list:\n",
    "    for j in b_list:\n",
    "        if i == j:\n",
    "            n_list = n_list + [i]\n",
    "print(n_list[-1])"
   ]
  },
  {
   "cell_type": "code",
   "execution_count": null,
   "metadata": {},
   "outputs": [],
   "source": []
  }
 ],
 "metadata": {
  "kernelspec": {
   "display_name": "Python 3",
   "language": "python",
   "name": "python3"
  },
  "language_info": {
   "codemirror_mode": {
    "name": "ipython",
    "version": 3
   },
   "file_extension": ".py",
   "mimetype": "text/x-python",
   "name": "python",
   "nbconvert_exporter": "python",
   "pygments_lexer": "ipython3",
   "version": "3.8.5"
  }
 },
 "nbformat": 4,
 "nbformat_minor": 4
}
