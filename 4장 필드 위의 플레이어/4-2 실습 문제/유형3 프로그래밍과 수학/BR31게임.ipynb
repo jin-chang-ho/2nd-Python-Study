{
 "cells": [
  {
   "cell_type": "code",
   "execution_count": 1,
   "metadata": {},
   "outputs": [
    {
     "name": "stdout",
     "output_type": "stream",
     "text": [
      "컴퓨터: 1 2\n",
      "사람: 3 4 5\n",
      "컴퓨터: 6\n",
      "사람: 7 8 9\n",
      "컴퓨터: 10\n",
      "사람: 11 12 13\n",
      "컴퓨터: 14 15 16\n",
      "사람: 17 18 19\n",
      "컴퓨터: 20\n",
      "사람: 21 22 23\n",
      "컴퓨터: 24\n",
      "사람: 25 26 27\n",
      "컴퓨터: 28 29\n",
      "사람: 30\n",
      "컴퓨터: 31\n",
      "컴퓨터 패배\n"
     ]
    }
   ],
   "source": [
    "from random import randint\n",
    "from time import sleep\n",
    "numbers = [str(i) for i in range(1,32)]\n",
    "computer = []\n",
    "user = []\n",
    "computer_start = 0\n",
    "\n",
    "while True:\n",
    "    computer_end = computer_start + randint(1, 3)\n",
    "    computer = numbers[computer_start : computer_end]\n",
    "    print(\"컴퓨터:\", \" \".join(computer))\n",
    "    if str(31) in computer:\n",
    "        print(\"컴퓨터 패배\")\n",
    "        break\n",
    "    sleep(0.1)\n",
    "    user = input(\"사람: \").split()\n",
    "    if str(31) in user:\n",
    "        print(\"사람 패배\")\n",
    "        break\n",
    "    computer_start = int(user[-1])"
   ]
  },
  {
   "cell_type": "code",
   "execution_count": null,
   "metadata": {},
   "outputs": [],
   "source": []
  }
 ],
 "metadata": {
  "kernelspec": {
   "display_name": "Python 3",
   "language": "python",
   "name": "python3"
  },
  "language_info": {
   "codemirror_mode": {
    "name": "ipython",
    "version": 3
   },
   "file_extension": ".py",
   "mimetype": "text/x-python",
   "name": "python",
   "nbconvert_exporter": "python",
   "pygments_lexer": "ipython3",
   "version": "3.8.5"
  }
 },
 "nbformat": 4,
 "nbformat_minor": 4
}
