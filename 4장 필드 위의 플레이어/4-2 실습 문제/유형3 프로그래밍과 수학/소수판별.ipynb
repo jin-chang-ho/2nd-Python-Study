{
 "cells": [
  {
   "cell_type": "code",
   "execution_count": 1,
   "metadata": {},
   "outputs": [
    {
     "name": "stdout",
     "output_type": "stream",
     "text": [
      "n: 5\n",
      "소수\n"
     ]
    }
   ],
   "source": [
    "number = int(input(\"n: \"))\n",
    "if number == 2:\n",
    "    print(\"소수\")\n",
    "else:\n",
    "    count = 0\n",
    "    for i in range(2, number):\n",
    "        if number % i == 0:\n",
    "            count = count + 1\n",
    "            print(\"소수 아님\")\n",
    "            break\n",
    "    if count == 0:\n",
    "        print(\"소수\")"
   ]
  },
  {
   "cell_type": "code",
   "execution_count": null,
   "metadata": {},
   "outputs": [],
   "source": []
  }
 ],
 "metadata": {
  "kernelspec": {
   "display_name": "Python 3",
   "language": "python",
   "name": "python3"
  },
  "language_info": {
   "codemirror_mode": {
    "name": "ipython",
    "version": 3
   },
   "file_extension": ".py",
   "mimetype": "text/x-python",
   "name": "python",
   "nbconvert_exporter": "python",
   "pygments_lexer": "ipython3",
   "version": "3.8.5"
  }
 },
 "nbformat": 4,
 "nbformat_minor": 4
}
