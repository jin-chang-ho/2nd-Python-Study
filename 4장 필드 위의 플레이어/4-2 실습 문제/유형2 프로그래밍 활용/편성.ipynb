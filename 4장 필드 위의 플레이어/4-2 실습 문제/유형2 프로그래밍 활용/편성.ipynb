{
 "cells": [
  {
   "cell_type": "code",
   "execution_count": 1,
   "metadata": {},
   "outputs": [
    {
     "name": "stdout",
     "output_type": "stream",
     "text": [
      "사람들: 갑 을 병 정 무 기 경 신 임 계\n",
      "그룹 숫자: 3\n",
      "1조: 경 병 정\n",
      "2조: 갑 을 임 무\n",
      "3조: 계 신 기\n"
     ]
    }
   ],
   "source": [
    "from random import shuffle\n",
    "from random import randint\n",
    "people = input(\"사람들: \").split()\n",
    "shuffle(people)\n",
    "number = int(input(\"그룹 숫자: \"))\n",
    "start = 0\n",
    "group = 1\n",
    "choice = len(people) // number\n",
    "if len(people) % number == 0:\n",
    "    while True:\n",
    "        if start >= len(people):\n",
    "            break\n",
    "        print(str(group) + \"조:\", \" \".join(people[start:start+choice]))\n",
    "        start = start + choice\n",
    "        group = group + 1\n",
    "else:\n",
    "    new_list = []\n",
    "    ran_list = []\n",
    "    while True:\n",
    "        if start + choice > len(people):\n",
    "            break\n",
    "        new_list.append(\" \".join(people[start:start+choice]))\n",
    "        start = start + choice\n",
    "        \n",
    "    for _ in range(start, len(people)):\n",
    "        ran = randint(0, number - 1)\n",
    "        ran_list.append(ran)\n",
    "        while True:\n",
    "            if ran not in ran_list:\n",
    "                break\n",
    "            ran = randint(0, number - 1)\n",
    "        \n",
    "        new_list[ran] = new_list[ran] + \" \" + people[start]\n",
    "    \n",
    "    for i in new_list:\n",
    "        print(str(group) + \"조:\", i)\n",
    "        group = group + 1"
   ]
  },
  {
   "cell_type": "code",
   "execution_count": null,
   "metadata": {},
   "outputs": [],
   "source": []
  },
  {
   "cell_type": "code",
   "execution_count": null,
   "metadata": {},
   "outputs": [],
   "source": []
  }
 ],
 "metadata": {
  "kernelspec": {
   "display_name": "Python 3",
   "language": "python",
   "name": "python3"
  },
  "language_info": {
   "codemirror_mode": {
    "name": "ipython",
    "version": 3
   },
   "file_extension": ".py",
   "mimetype": "text/x-python",
   "name": "python",
   "nbconvert_exporter": "python",
   "pygments_lexer": "ipython3",
   "version": "3.8.5"
  }
 },
 "nbformat": 4,
 "nbformat_minor": 4
}
