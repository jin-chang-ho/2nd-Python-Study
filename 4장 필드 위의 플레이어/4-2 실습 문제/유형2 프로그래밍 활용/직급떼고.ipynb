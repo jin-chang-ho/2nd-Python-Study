{
 "cells": [
  {
   "cell_type": "code",
   "execution_count": 1,
   "metadata": {},
   "outputs": [
    {
     "name": "stdout",
     "output_type": "stream",
     "text": [
      "조아라 성춘향 이몽룡\n"
     ]
    }
   ],
   "source": [
    "danger = [\"사원\", \"주임\", \"대리\", \"과장\", \"차장\", \"부장\", \"이사\", \"상무이사\", \"전무이사\", \"대표이사\", \"부사장\", \"사장\"]\n",
    "file = open(\"이름1.txt\", \"r\")\n",
    "list1 = file.readlines()\n",
    "listnames = []\n",
    "for i in list1:\n",
    "    i = i.rstrip(\"\\n\")\n",
    "    check = i.split()\n",
    "    for j in check:\n",
    "        if j not in danger:\n",
    "            listnames = listnames + [j]\n",
    "file.close()\n",
    "setnames = set(listnames)\n",
    "strnames = str(setnames)\n",
    "final = strnames.split(\",\")\n",
    "real = \"\"\n",
    "for i in final:\n",
    "    i = i.replace(\"'\", \"\")\n",
    "    i = i.replace(\"{\", \"\")\n",
    "    i = i.replace(\"}\", \"\")\n",
    "    real = real + i\n",
    "print(real)\n",
    "file = open(\"이름2.txt\", \"w\")\n",
    "file.write(real)\n",
    "file.close()"
   ]
  },
  {
   "cell_type": "code",
   "execution_count": null,
   "metadata": {},
   "outputs": [],
   "source": []
  }
 ],
 "metadata": {
  "kernelspec": {
   "display_name": "Python 3",
   "language": "python",
   "name": "python3"
  },
  "language_info": {
   "codemirror_mode": {
    "name": "ipython",
    "version": 3
   },
   "file_extension": ".py",
   "mimetype": "text/x-python",
   "name": "python",
   "nbconvert_exporter": "python",
   "pygments_lexer": "ipython3",
   "version": "3.8.5"
  }
 },
 "nbformat": 4,
 "nbformat_minor": 4
}
