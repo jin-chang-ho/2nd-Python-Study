{
 "cells": [
  {
   "cell_type": "code",
   "execution_count": 1,
   "metadata": {},
   "outputs": [
    {
     "name": "stdout",
     "output_type": "stream",
     "text": [
      "122.0\n",
      "50.0\n"
     ]
    }
   ],
   "source": [
    "def CtoF(C):\n",
    "    return 1.8 * C + 32\n",
    "def FtoC(F):\n",
    "    return (F - 32) / 1.8\n",
    "\n",
    "print(CtoF(50))\n",
    "print(FtoC(122))\n"
   ]
  },
  {
   "cell_type": "code",
   "execution_count": 2,
   "metadata": {},
   "outputs": [
    {
     "name": "stdout",
     "output_type": "stream",
     "text": [
      "33.058\n",
      "10.0\n"
     ]
    }
   ],
   "source": [
    "def 평to제곱미터(평):\n",
    "    return 평 * 3.3058\n",
    "def 제곱미터to평(제곱미터):\n",
    "    return 제곱미터 / 3.3058\n",
    "\n",
    "print(평to제곱미터(10))\n",
    "print(제곱미터to평(33.058))"
   ]
  },
  {
   "cell_type": "code",
   "execution_count": null,
   "metadata": {},
   "outputs": [],
   "source": []
  }
 ],
 "metadata": {
  "kernelspec": {
   "display_name": "Python 3",
   "language": "python",
   "name": "python3"
  },
  "language_info": {
   "codemirror_mode": {
    "name": "ipython",
    "version": 3
   },
   "file_extension": ".py",
   "mimetype": "text/x-python",
   "name": "python",
   "nbconvert_exporter": "python",
   "pygments_lexer": "ipython3",
   "version": "3.8.5"
  }
 },
 "nbformat": 4,
 "nbformat_minor": 4
}
