{
 "cells": [
  {
   "cell_type": "code",
   "execution_count": 1,
   "metadata": {},
   "outputs": [
    {
     "name": "stdout",
     "output_type": "stream",
     "text": [
      "n: 10\n",
      "3, 2, 1, 시작!\n",
      "\n",
      "10.54 성공\n"
     ]
    }
   ],
   "source": [
    "from time import sleep\n",
    "from time import time\n",
    "number = int(input(\"n: \"))\n",
    "print(\"3, \", end = \"\")\n",
    "sleep(1)\n",
    "print(\"2, \", end = \"\")\n",
    "sleep(1)\n",
    "print(\"1, \", end = \"\")\n",
    "sleep(1)\n",
    "print(\"시작!\")\n",
    "start = time()\n",
    "if (input() == \"\"):\n",
    "    end = time()\n",
    "    du = end - start\n",
    "    print(\"%.2f\" % du, end = \"\")\n",
    "    if(0.9 * number <= du <= 1.1*number):\n",
    "        print(\" 성공\")\n",
    "    else:\n",
    "        print(\" 실패\")"
   ]
  },
  {
   "cell_type": "code",
   "execution_count": null,
   "metadata": {},
   "outputs": [],
   "source": []
  }
 ],
 "metadata": {
  "kernelspec": {
   "display_name": "Python 3",
   "language": "python",
   "name": "python3"
  },
  "language_info": {
   "codemirror_mode": {
    "name": "ipython",
    "version": 3
   },
   "file_extension": ".py",
   "mimetype": "text/x-python",
   "name": "python",
   "nbconvert_exporter": "python",
   "pygments_lexer": "ipython3",
   "version": "3.8.5"
  }
 },
 "nbformat": 4,
 "nbformat_minor": 4
}
