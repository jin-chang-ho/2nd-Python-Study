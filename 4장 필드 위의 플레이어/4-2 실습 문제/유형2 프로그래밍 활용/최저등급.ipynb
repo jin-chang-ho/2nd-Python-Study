{
 "cells": [
  {
   "cell_type": "code",
   "execution_count": 1,
   "metadata": {},
   "outputs": [
    {
     "name": "stdout",
     "output_type": "stream",
     "text": [
      "성삼문\n",
      "유성원\n"
     ]
    }
   ],
   "source": [
    "file = open(\"판별대상.txt\", \"r\")\n",
    "list = file.readlines()\n",
    "for i in list:\n",
    "    i = i.rstrip(\"\\n\")\n",
    "    check = i.split()\n",
    "    for j in range(len(check)):\n",
    "        if j == 0:\n",
    "            name = check[j]\n",
    "        elif j == 1:\n",
    "            kor = int(check[j])\n",
    "        elif j == 2:\n",
    "            math = int(check[j])\n",
    "        else:\n",
    "            eng = int(check[j])\n",
    "    if (kor + math + eng < 10) and ((kor + math < 4) or (math + eng < 4)):\n",
    "        print(name)"
   ]
  },
  {
   "cell_type": "code",
   "execution_count": null,
   "metadata": {},
   "outputs": [],
   "source": []
  }
 ],
 "metadata": {
  "kernelspec": {
   "display_name": "Python 3",
   "language": "python",
   "name": "python3"
  },
  "language_info": {
   "codemirror_mode": {
    "name": "ipython",
    "version": 3
   },
   "file_extension": ".py",
   "mimetype": "text/x-python",
   "name": "python",
   "nbconvert_exporter": "python",
   "pygments_lexer": "ipython3",
   "version": "3.8.5"
  }
 },
 "nbformat": 4,
 "nbformat_minor": 4
}
