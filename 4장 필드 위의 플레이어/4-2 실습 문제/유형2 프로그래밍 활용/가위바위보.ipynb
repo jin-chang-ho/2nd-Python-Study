{
 "cells": [
  {
   "cell_type": "code",
   "execution_count": 9,
   "metadata": {},
   "outputs": [
    {
     "name": "stdout",
     "output_type": "stream",
     "text": [
      "당신은? 바위\n",
      "저는? 가위\n",
      "제가 졌군요!\n"
     ]
    }
   ],
   "source": [
    "from random import randint\n",
    "computer = randint(0,2)\n",
    "user = input(\"당신은? \")\n",
    "if computer == 0:\n",
    "    if user == \"바위\":\n",
    "        print(\"저는? 바위\")\n",
    "        print(\"우리 비겼네요!\")\n",
    "    elif user == \"가위\":\n",
    "        print(\"저는? 바위\")\n",
    "        print(\"제가 이겼네요!\")\n",
    "    else:\n",
    "        print(\"저는? 바위\")\n",
    "        print(\"제가 졌군요!\")\n",
    "elif computer == 1:\n",
    "    if user == \"바위\":\n",
    "        print(\"저는? 가위\")\n",
    "        print(\"제가 졌군요!\")\n",
    "    elif user == \"가위\":\n",
    "        print(\"저는? 가위\")\n",
    "        print(\"우리 비겼네요!\")\n",
    "    else:\n",
    "        print(\"저는? 가위\")\n",
    "        print(\"제가 이겼네요!\")\n",
    "else:\n",
    "    if user == \"바위\":\n",
    "        print(\"저는? 보\")\n",
    "        print(\"제가 이겼네요!\")\n",
    "    elif user == \"가위\":\n",
    "        print(\"저는? 보\")\n",
    "        print(\"제가 졌군요!\")\n",
    "    else:\n",
    "        print(\"저는? 보\")\n",
    "        print(\"우리 비겼네요!\")"
   ]
  },
  {
   "cell_type": "code",
   "execution_count": null,
   "metadata": {},
   "outputs": [],
   "source": []
  }
 ],
 "metadata": {
  "kernelspec": {
   "display_name": "Python 3",
   "language": "python",
   "name": "python3"
  },
  "language_info": {
   "codemirror_mode": {
    "name": "ipython",
    "version": 3
   },
   "file_extension": ".py",
   "mimetype": "text/x-python",
   "name": "python",
   "nbconvert_exporter": "python",
   "pygments_lexer": "ipython3",
   "version": "3.8.5"
  }
 },
 "nbformat": 4,
 "nbformat_minor": 4
}
