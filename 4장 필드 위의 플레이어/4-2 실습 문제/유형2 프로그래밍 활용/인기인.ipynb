{
 "cells": [
  {
   "cell_type": "code",
   "execution_count": 1,
   "metadata": {},
   "outputs": [
    {
     "name": "stdout",
     "output_type": "stream",
     "text": [
      "이몽룡 2\n",
      "성춘향 3\n",
      "월매 1\n",
      "향단 2\n",
      "방자 1\n"
     ]
    }
   ],
   "source": [
    "file = open(\"투표결과.txt\", \"r\")\n",
    "list = file.read().split()\n",
    "i = 0\n",
    "while True:\n",
    "    count = 1\n",
    "    if(i >= len(list)):\n",
    "        break\n",
    "    j = i + 1\n",
    "    while True:\n",
    "        if(j >= len(list)):\n",
    "            break\n",
    "        if(list[i] == list[j]):\n",
    "            count = count + 1\n",
    "            list.pop(j)\n",
    "            j = j - 1 \n",
    "        j = j + 1\n",
    "    print(list[i], count)\n",
    "    i = i + 1"
   ]
  },
  {
   "cell_type": "code",
   "execution_count": null,
   "metadata": {},
   "outputs": [],
   "source": []
  }
 ],
 "metadata": {
  "kernelspec": {
   "display_name": "Python 3",
   "language": "python",
   "name": "python3"
  },
  "language_info": {
   "codemirror_mode": {
    "name": "ipython",
    "version": 3
   },
   "file_extension": ".py",
   "mimetype": "text/x-python",
   "name": "python",
   "nbconvert_exporter": "python",
   "pygments_lexer": "ipython3",
   "version": "3.8.5"
  }
 },
 "nbformat": 4,
 "nbformat_minor": 4
}
