{
 "cells": [
  {
   "cell_type": "code",
   "execution_count": null,
   "metadata": {},
   "outputs": [
    {
     "name": "stdout",
     "output_type": "stream",
     "text": [
      "나: 끝말잇기 할래?\n",
      "컴퓨터 : 나부터 할게.\n",
      "컴퓨터 : 화분\n",
      "나: 분장\n",
      "컴퓨터: 와! 내가 이겼다!\n",
      "나: 끝말잇기 할래?\n",
      "컴퓨터 : 나부터 할게.\n",
      "컴퓨터 : 바둑\n",
      "나: 둑근\n",
      "컴퓨터: 와! 내가 이겼다!\n",
      "나: 끝말잇기 할래?\n",
      "컴퓨터 : 나부터 할게.\n",
      "컴퓨터 : 책상\n",
      "나: 상자\n",
      "컴퓨터 : 자전거\n",
      "나: 거물\n",
      "컴퓨터: 내가 졌다. 다시 해.\n",
      "컴퓨터 : 화분\n",
      "나: 야, 그러는 게 어딨어?\n",
      "컴퓨터: 와! 내가 이겼다!\n"
     ]
    }
   ],
   "source": [
    "from random import randint\n",
    "while True:\n",
    "    str = input(\"나: \")\n",
    "    if str == \"끝!\":\n",
    "        print(\"또 보자.\")\n",
    "        break\n",
    "    elif \"안녕\" in str:\n",
    "        print(\"컴퓨터: 만나서 반가워.\")\n",
    "    elif \"끝말잇기\" in str:\n",
    "        file = open(\"후보낱말.txt\", \"r\")\n",
    "        list = file.read().split()\n",
    "        start = randint(0, len(list) - 1)\n",
    "        print(\"컴퓨터 : 나부터 할게.\")\n",
    "        while True:\n",
    "            print(\"컴퓨터 :\", list[start])\n",
    "            user = input(\"나: \")\n",
    "            computer = list[start]\n",
    "            if computer[-1] != user[0] or user not in list:\n",
    "                print(\"컴퓨터: 와! 내가 이겼다!\")\n",
    "                break\n",
    "            else:\n",
    "                count = 0\n",
    "                for i in range(len(list)):\n",
    "                    if user[-1] == list[i][0]:\n",
    "                        count = count + 1\n",
    "                        start = i\n",
    "                        break\n",
    "                if count == 0:\n",
    "                    print(\"컴퓨터: 내가 졌다. 다시 해.\")\n",
    "                    start = randint(0, len(list) - 1)\n",
    "        \n",
    "    else:\n",
    "        print(\"컴퓨터: 무슨 말인지 잘 모르겠어.\")"
   ]
  },
  {
   "cell_type": "code",
   "execution_count": null,
   "metadata": {},
   "outputs": [],
   "source": []
  }
 ],
 "metadata": {
  "kernelspec": {
   "display_name": "Python 3",
   "language": "python",
   "name": "python3"
  },
  "language_info": {
   "codemirror_mode": {
    "name": "ipython",
    "version": 3
   },
   "file_extension": ".py",
   "mimetype": "text/x-python",
   "name": "python",
   "nbconvert_exporter": "python",
   "pygments_lexer": "ipython3",
   "version": "3.8.5"
  }
 },
 "nbformat": 4,
 "nbformat_minor": 4
}
