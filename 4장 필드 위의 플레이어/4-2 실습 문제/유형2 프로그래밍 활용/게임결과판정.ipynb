{
 "cells": [
  {
   "cell_type": "code",
   "execution_count": 1,
   "metadata": {},
   "outputs": [
    {
     "name": "stdout",
     "output_type": "stream",
     "text": [
      "S 1\n",
      "A 1\n",
      "B 1\n",
      "C 1\n"
     ]
    }
   ],
   "source": [
    "file = open(\"테스트.txt\", \"r\")\n",
    "list = file.readlines()\n",
    "S = 0\n",
    "A = 0\n",
    "B = 0\n",
    "C = 0\n",
    "\n",
    "for i in list:\n",
    "    minus = 0\n",
    "    i = i.rstrip(\"\\n\")\n",
    "    check = [int(i) for i in i.split()]\n",
    "    for j in range(len(check)):\n",
    "        if j == 0:\n",
    "            minus = 2 * check[j]\n",
    "        elif j == 1:\n",
    "            minus = minus + 6 * check[j]\n",
    "        elif j == 2:\n",
    "            minus = minus + 4 * check[j]\n",
    "        else:\n",
    "            minus = minus + 10 * check[j]\n",
    "    if 100 - minus >= 90:\n",
    "        S = S + 1\n",
    "    elif 100 - minus >= 80:\n",
    "        A = A + 1\n",
    "    elif 100 - minus >= 60:\n",
    "        B = B + 1\n",
    "    else:\n",
    "        C = C + 1\n",
    "\n",
    "print(\"S\", S)\n",
    "print(\"A\", A)\n",
    "print(\"B\", B)\n",
    "print(\"C\", C)"
   ]
  },
  {
   "cell_type": "code",
   "execution_count": null,
   "metadata": {},
   "outputs": [],
   "source": []
  }
 ],
 "metadata": {
  "kernelspec": {
   "display_name": "Python 3",
   "language": "python",
   "name": "python3"
  },
  "language_info": {
   "codemirror_mode": {
    "name": "ipython",
    "version": 3
   },
   "file_extension": ".py",
   "mimetype": "text/x-python",
   "name": "python",
   "nbconvert_exporter": "python",
   "pygments_lexer": "ipython3",
   "version": "3.8.5"
  }
 },
 "nbformat": 4,
 "nbformat_minor": 4
}
