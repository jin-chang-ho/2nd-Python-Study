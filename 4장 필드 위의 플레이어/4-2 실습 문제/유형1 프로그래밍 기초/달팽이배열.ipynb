{
 "cells": [
  {
   "cell_type": "code",
   "execution_count": 1,
   "metadata": {},
   "outputs": [
    {
     "name": "stdout",
     "output_type": "stream",
     "text": [
      "n: 5\n",
      "   1   2   3   4   5\n",
      "  16  17  18  19   6\n",
      "  15  24  25  20   7\n",
      "  14  23  22  21   8\n",
      "  13  12  11  10   9\n"
     ]
    }
   ],
   "source": [
    "def right(i, j, snail, number, n):\n",
    "    while True:\n",
    "        snail[i][j] = number\n",
    "        j = j + 1\n",
    "        if j >= n or snail[i][j] != 0:\n",
    "            return i + 1, j - 1, number + 1\n",
    "        number = number + 1\n",
    "        \n",
    "def low(i, j, snail, number, n):\n",
    "    while True:\n",
    "        snail[i][j] = number\n",
    "        i = i + 1\n",
    "        if i >= n or snail[i][j] != 0:\n",
    "            return i - 1, j - 1, number + 1\n",
    "        number = number + 1\n",
    "        \n",
    "def left(i, j, snail, number, n):\n",
    "    while True:\n",
    "        snail[i][j] = number\n",
    "        j = j - 1\n",
    "        if j < 0 or snail[i][j] != 0:\n",
    "            return i - 1, j + 1, number + 1\n",
    "        number = number + 1\n",
    "        \n",
    "def high(i, j, snail, number, n):\n",
    "    while True:\n",
    "        snail[i][j] = number\n",
    "        i = i - 1\n",
    "        if i < 0 or snail[i][j] != 0:\n",
    "            return i + 1, j + 1, number + 1\n",
    "        number = number + 1\n",
    "        \n",
    "n = int(input(\"n: \"))\n",
    "i = 0\n",
    "j = 0\n",
    "number = 1\n",
    "snail = [[0 for i in range(n)] for j in range(n)]\n",
    "while True:\n",
    "    i, j, number = right(i, j, snail, number, n)\n",
    "    if number > n * n:\n",
    "        break\n",
    "    i, j, number = low(i, j, snail, number, n)\n",
    "    if number > n * n:\n",
    "        break\n",
    "    i, j, number = left(i, j, snail, number, n)\n",
    "    if number > n * n:\n",
    "        break\n",
    "    i, j, number = high(i, j, snail, number, n)\n",
    "    if number > n * n:\n",
    "        break\n",
    "        \n",
    "for i in range(n):\n",
    "    for j in range(n):\n",
    "        print(\"%4d\" % snail[i][j], end = \"\")\n",
    "    print()"
   ]
  },
  {
   "cell_type": "code",
   "execution_count": null,
   "metadata": {},
   "outputs": [],
   "source": []
  }
 ],
 "metadata": {
  "kernelspec": {
   "display_name": "Python 3",
   "language": "python",
   "name": "python3"
  },
  "language_info": {
   "codemirror_mode": {
    "name": "ipython",
    "version": 3
   },
   "file_extension": ".py",
   "mimetype": "text/x-python",
   "name": "python",
   "nbconvert_exporter": "python",
   "pygments_lexer": "ipython3",
   "version": "3.8.5"
  }
 },
 "nbformat": 4,
 "nbformat_minor": 4
}
