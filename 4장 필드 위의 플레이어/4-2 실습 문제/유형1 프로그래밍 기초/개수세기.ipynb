{
 "cells": [
  {
   "cell_type": "code",
   "execution_count": 1,
   "metadata": {},
   "outputs": [
    {
     "name": "stdout",
     "output_type": "stream",
     "text": [
      "정수 묶음: 1 3 5 7 2 3 5 8 3 9 8 3 5 2 3\n",
      "찾을 정수: 3\n",
      "포함: 5\n"
     ]
    }
   ],
   "source": [
    "str = input(\"정수 묶음: \")\n",
    "str = [int(i) for i in str.split()]\n",
    "find = int(input(\"찾을 정수: \"))\n",
    "count = 0\n",
    "for i in str:\n",
    "    if i == find:\n",
    "        count = count + 1\n",
    "print(\"포함:\", count)"
   ]
  },
  {
   "cell_type": "code",
   "execution_count": null,
   "metadata": {},
   "outputs": [],
   "source": []
  }
 ],
 "metadata": {
  "kernelspec": {
   "display_name": "Python 3",
   "language": "python",
   "name": "python3"
  },
  "language_info": {
   "codemirror_mode": {
    "name": "ipython",
    "version": 3
   },
   "file_extension": ".py",
   "mimetype": "text/x-python",
   "name": "python",
   "nbconvert_exporter": "python",
   "pygments_lexer": "ipython3",
   "version": "3.8.5"
  }
 },
 "nbformat": 4,
 "nbformat_minor": 4
}
