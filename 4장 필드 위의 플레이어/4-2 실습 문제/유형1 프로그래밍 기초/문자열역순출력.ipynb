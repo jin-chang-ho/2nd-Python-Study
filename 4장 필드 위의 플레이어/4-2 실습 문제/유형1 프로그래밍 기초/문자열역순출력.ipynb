{
 "cells": [
  {
   "cell_type": "code",
   "execution_count": 6,
   "metadata": {},
   "outputs": [
    {
     "name": "stdout",
     "output_type": "stream",
     "text": [
      "문자열: 가나다라 마\n",
      "거꾸로 : 마 라다나가\n"
     ]
    }
   ],
   "source": [
    "want = input(\"문자열: \")\n",
    "reverse = \"\"\n",
    "for i in range(len(want) - 1, -1, -1):\n",
    "    reverse = reverse + str(want[i])\n",
    "print(\"거꾸로 :\", reverse)"
   ]
  },
  {
   "cell_type": "code",
   "execution_count": 7,
   "metadata": {},
   "outputs": [
    {
     "name": "stdout",
     "output_type": "stream",
     "text": [
      "문자열: 가나다라 마\n",
      "마 라다나가"
     ]
    }
   ],
   "source": [
    "def reverse(st, length): \n",
    "    print(st[length], end = \"\")\n",
    "    length = length - 1\n",
    "    if length ==  -1:\n",
    "        return\n",
    "    reverse(st, length)\n",
    "\n",
    "want = input(\"문자열: \")\n",
    "reverse(want, len(want) - 1)"
   ]
  },
  {
   "cell_type": "code",
   "execution_count": null,
   "metadata": {},
   "outputs": [],
   "source": []
  }
 ],
 "metadata": {
  "kernelspec": {
   "display_name": "Python 3",
   "language": "python",
   "name": "python3"
  },
  "language_info": {
   "codemirror_mode": {
    "name": "ipython",
    "version": 3
   },
   "file_extension": ".py",
   "mimetype": "text/x-python",
   "name": "python",
   "nbconvert_exporter": "python",
   "pygments_lexer": "ipython3",
   "version": "3.8.5"
  }
 },
 "nbformat": 4,
 "nbformat_minor": 4
}
