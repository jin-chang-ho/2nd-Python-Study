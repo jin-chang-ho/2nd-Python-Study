{
 "cells": [
  {
   "cell_type": "code",
   "execution_count": 1,
   "metadata": {},
   "outputs": [
    {
     "name": "stdout",
     "output_type": "stream",
     "text": [
      "A: 3\n",
      "B: 12\n",
      "A의 가중치: 1\n",
      "B의 가중치: 2\n",
      "가중평균: 9.0\n"
     ]
    }
   ],
   "source": [
    "A = int(input(\"A: \"))\n",
    "B = int(input(\"B: \"))\n",
    "wA = int(input(\"A의 가중치: \"))\n",
    "wB = int(input(\"B의 가중치: \"))\n",
    "wavg = (wA * A + wB * B) / (wA + wB)\n",
    "print(\"가중평균:\", wavg)"
   ]
  },
  {
   "cell_type": "code",
   "execution_count": null,
   "metadata": {},
   "outputs": [],
   "source": []
  }
 ],
 "metadata": {
  "kernelspec": {
   "display_name": "Python 3",
   "language": "python",
   "name": "python3"
  },
  "language_info": {
   "codemirror_mode": {
    "name": "ipython",
    "version": 3
   },
   "file_extension": ".py",
   "mimetype": "text/x-python",
   "name": "python",
   "nbconvert_exporter": "python",
   "pygments_lexer": "ipython3",
   "version": "3.8.5"
  }
 },
 "nbformat": 4,
 "nbformat_minor": 4
}
