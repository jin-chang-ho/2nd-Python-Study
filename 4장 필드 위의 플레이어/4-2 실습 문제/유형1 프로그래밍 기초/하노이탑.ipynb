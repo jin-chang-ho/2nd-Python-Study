{
 "cells": [
  {
   "cell_type": "code",
   "execution_count": 1,
   "metadata": {},
   "outputs": [
    {
     "name": "stdout",
     "output_type": "stream",
     "text": [
      "원판 개수: 4\n",
      "A->B\n",
      "A->C\n",
      "B->C\n",
      "A->B\n",
      "C->A\n",
      "C->B\n",
      "A->B\n",
      "A->C\n",
      "B->C\n",
      "B->A\n",
      "C->A\n",
      "B->C\n",
      "A->B\n",
      "A->C\n",
      "B->C\n"
     ]
    }
   ],
   "source": [
    "def hanoi(disks, start, mid, dest):\n",
    "    if disks == 0:\n",
    "        return\n",
    "    hanoi(disks-1, start, dest, mid)\n",
    "    print(start + \"->\" + dest)\n",
    "    hanoi(disks-1, mid, start, dest)\n",
    "\n",
    "number = int(input(\"원판 개수: \"))\n",
    "hanoi(number, 'A', 'B', 'C')"
   ]
  },
  {
   "cell_type": "code",
   "execution_count": 2,
   "metadata": {},
   "outputs": [
    {
     "name": "stdout",
     "output_type": "stream",
     "text": [
      "원판 개수: 4\n",
      "이동 횟수: 15\n"
     ]
    }
   ],
   "source": [
    "count = 0\n",
    "def honoi_count(disks, start, mid, dest):\n",
    "    global count\n",
    "    if disks == 0:\n",
    "        return\n",
    "    honoi_count(disks-1, start, dest, mid)\n",
    "    count = count + 1\n",
    "    honoi_count(disks-1, mid, start, dest)\n",
    "    \n",
    "number = int(input(\"원판 개수: \"))\n",
    "honoi_count(number, 'A', 'B', 'C')\n",
    "print(\"이동 횟수:\", count)"
   ]
  },
  {
   "cell_type": "code",
   "execution_count": null,
   "metadata": {},
   "outputs": [],
   "source": []
  }
 ],
 "metadata": {
  "kernelspec": {
   "display_name": "Python 3",
   "language": "python",
   "name": "python3"
  },
  "language_info": {
   "codemirror_mode": {
    "name": "ipython",
    "version": 3
   },
   "file_extension": ".py",
   "mimetype": "text/x-python",
   "name": "python",
   "nbconvert_exporter": "python",
   "pygments_lexer": "ipython3",
   "version": "3.8.5"
  }
 },
 "nbformat": 4,
 "nbformat_minor": 4
}
