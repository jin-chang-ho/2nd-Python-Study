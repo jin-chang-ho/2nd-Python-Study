{
 "cells": [
  {
   "cell_type": "code",
   "execution_count": 1,
   "metadata": {},
   "outputs": [
    {
     "name": "stdout",
     "output_type": "stream",
     "text": [
      "여러 개의 숫자 입력: 1 99 -2 88 3 7 5\n",
      "가장 큰 숫자: 99\n"
     ]
    }
   ],
   "source": [
    "i = 1\n",
    "numbers = input(\"여러 개의 숫자 입력: \").split()\n",
    "big = int(numbers[0])\n",
    "while True:\n",
    "    if i >= len(numbers):\n",
    "        break\n",
    "    number = int(numbers[i])\n",
    "    if (big < number):\n",
    "        big = number\n",
    "    i = i + 1\n",
    "print(\"가장 큰 숫자:\", big)"
   ]
  },
  {
   "cell_type": "code",
   "execution_count": null,
   "metadata": {},
   "outputs": [],
   "source": []
  }
 ],
 "metadata": {
  "kernelspec": {
   "display_name": "Python 3",
   "language": "python",
   "name": "python3"
  },
  "language_info": {
   "codemirror_mode": {
    "name": "ipython",
    "version": 3
   },
   "file_extension": ".py",
   "mimetype": "text/x-python",
   "name": "python",
   "nbconvert_exporter": "python",
   "pygments_lexer": "ipython3",
   "version": "3.8.5"
  }
 },
 "nbformat": 4,
 "nbformat_minor": 4
}
