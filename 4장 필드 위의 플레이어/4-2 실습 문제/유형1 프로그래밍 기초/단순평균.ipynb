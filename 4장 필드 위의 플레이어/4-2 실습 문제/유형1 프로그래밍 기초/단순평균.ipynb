{
 "cells": [
  {
   "cell_type": "code",
   "execution_count": 1,
   "metadata": {},
   "outputs": [
    {
     "name": "stdout",
     "output_type": "stream",
     "text": [
      "숫자: 1 4 3 6 9 2 10 -3\n",
      "평균: 4.0\n"
     ]
    }
   ],
   "source": [
    "list = input(\"숫자: \").split()\n",
    "list = [int(i) for i in list]\n",
    "sum = 0\n",
    "for i in list:\n",
    "    sum = sum + i\n",
    "avg = sum / len(list)\n",
    "print(\"평균:\", avg)"
   ]
  },
  {
   "cell_type": "code",
   "execution_count": null,
   "metadata": {},
   "outputs": [],
   "source": []
  }
 ],
 "metadata": {
  "kernelspec": {
   "display_name": "Python 3",
   "language": "python",
   "name": "python3"
  },
  "language_info": {
   "codemirror_mode": {
    "name": "ipython",
    "version": 3
   },
   "file_extension": ".py",
   "mimetype": "text/x-python",
   "name": "python",
   "nbconvert_exporter": "python",
   "pygments_lexer": "ipython3",
   "version": "3.8.5"
  }
 },
 "nbformat": 4,
 "nbformat_minor": 4
}
