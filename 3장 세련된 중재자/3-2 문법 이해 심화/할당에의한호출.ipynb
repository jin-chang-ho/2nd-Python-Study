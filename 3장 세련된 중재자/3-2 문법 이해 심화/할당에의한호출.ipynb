{
 "cells": [
  {
   "cell_type": "code",
   "execution_count": 1,
   "metadata": {},
   "outputs": [
    {
     "name": "stdout",
     "output_type": "stream",
     "text": [
      "140728407828320 140728407828384\n",
      "140728407828320 140728407828384\n"
     ]
    }
   ],
   "source": [
    "def swap(a, b):\n",
    "    c = a\n",
    "    a = b\n",
    "    b = c\n",
    "A = 3\n",
    "B = 5\n",
    "print(id(A), id(B))\n",
    "swap(A, B)\n",
    "print(id(A), id(B))"
   ]
  },
  {
   "cell_type": "code",
   "execution_count": 2,
   "metadata": {},
   "outputs": [
    {
     "name": "stdout",
     "output_type": "stream",
     "text": [
      "140728407828256 140728407828288\n",
      "140728407828288 140728407828256\n"
     ]
    }
   ],
   "source": [
    "a = 1\n",
    "b = 2\n",
    "print(id(a), id(b))\n",
    "c = a\n",
    "a = b\n",
    "b = c\n",
    "print(id(a), id(b))"
   ]
  },
  {
   "cell_type": "code",
   "execution_count": null,
   "metadata": {},
   "outputs": [],
   "source": []
  }
 ],
 "metadata": {
  "kernelspec": {
   "display_name": "Python 3",
   "language": "python",
   "name": "python3"
  },
  "language_info": {
   "codemirror_mode": {
    "name": "ipython",
    "version": 3
   },
   "file_extension": ".py",
   "mimetype": "text/x-python",
   "name": "python",
   "nbconvert_exporter": "python",
   "pygments_lexer": "ipython3",
   "version": "3.8.5"
  }
 },
 "nbformat": 4,
 "nbformat_minor": 4
}
