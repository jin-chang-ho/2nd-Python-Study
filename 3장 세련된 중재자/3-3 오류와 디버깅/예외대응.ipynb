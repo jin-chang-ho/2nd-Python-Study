{
 "cells": [
  {
   "cell_type": "code",
   "execution_count": 1,
   "metadata": {},
   "outputs": [
    {
     "name": "stdout",
     "output_type": "stream",
     "text": [
      "abcdefghijklmn\n"
     ]
    }
   ],
   "source": [
    "try:\n",
    "    file = open(\"input.txt\", \"r\")\n",
    "except FileNotFoundError :\n",
    "    print(\"파일이 없습니다.\")\n",
    "else:\n",
    "    print(file.read())\n",
    "    file.close()"
   ]
  },
  {
   "cell_type": "code",
   "execution_count": 2,
   "metadata": {},
   "outputs": [
    {
     "name": "stdout",
     "output_type": "stream",
     "text": [
      "첫번쨰 수: 3\n",
      "두번째 수: 5\n"
     ]
    }
   ],
   "source": [
    "try:\n",
    "    file = open(\"구구단출력.txt\", \"w\")\n",
    "    number1 = int(input(\"첫번쨰 수: \"))\n",
    "    number2 = int(input(\"두번째 수: \"))\n",
    "except Exception as e:\n",
    "    file.write(str(e))\n",
    "else:\n",
    "    file.write(str(number1 * number2))\n",
    "file.close()"
   ]
  },
  {
   "cell_type": "code",
   "execution_count": null,
   "metadata": {},
   "outputs": [],
   "source": []
  }
 ],
 "metadata": {
  "kernelspec": {
   "display_name": "Python 3",
   "language": "python",
   "name": "python3"
  },
  "language_info": {
   "codemirror_mode": {
    "name": "ipython",
    "version": 3
   },
   "file_extension": ".py",
   "mimetype": "text/x-python",
   "name": "python",
   "nbconvert_exporter": "python",
   "pygments_lexer": "ipython3",
   "version": "3.8.5"
  }
 },
 "nbformat": 4,
 "nbformat_minor": 4
}
